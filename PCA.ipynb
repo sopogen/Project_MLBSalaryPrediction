{
 "cells": [
  {
   "cell_type": "markdown",
   "metadata": {},
   "source": [
    "# 주성분분석(PCA)를 사용한 회귀모델"
   ]
  },
  {
   "cell_type": "code",
   "execution_count": 1,
   "metadata": {},
   "outputs": [],
   "source": [
    "import numpy as np\n",
    "import pandas as pd\n",
    "import statsmodels.api as sm\n",
    "import matplotlib.pyplot as plt\n",
    "from sklearn import preprocessing\n",
    "from sklearn.decomposition import PCA"
   ]
  },
  {
   "cell_type": "code",
   "execution_count": 2,
   "metadata": {},
   "outputs": [],
   "source": [
    "data = pd.read_csv(\"data/MLB/MLB_2014_2017.csv\")"
   ]
  },
  {
   "cell_type": "markdown",
   "metadata": {},
   "source": [
    "### 게임 수 적은 표본 및 연봉정보 없는 표본 제거"
   ]
  },
  {
   "cell_type": "code",
   "execution_count": 3,
   "metadata": {},
   "outputs": [
    {
     "data": {
      "text/plain": [
       "(1020, 35)"
      ]
     },
     "execution_count": 3,
     "metadata": {},
     "output_type": "execute_result"
    }
   ],
   "source": [
    "data = data[lambda x: x.G >= 20]\n",
    "data = data[lambda x: x.Salary > 0]\n",
    "data = data.reset_index(drop=True)\n",
    "data.shape"
   ]
  },
  {
   "cell_type": "markdown",
   "metadata": {},
   "source": [
    "### 명목변수, 중복적용변수 제거"
   ]
  },
  {
   "cell_type": "code",
   "execution_count": 4,
   "metadata": {},
   "outputs": [
    {
     "data": {
      "text/plain": [
       "(1020, 29)"
      ]
     },
     "execution_count": 4,
     "metadata": {},
     "output_type": "execute_result"
    }
   ],
   "source": [
    "data = data.drop([\"Name\", \"Id\", \"Tm\", \"Lg\", \"OPS\", \"OPS+\"], axis=1)\n",
    "data.shape"
   ]
  },
  {
   "cell_type": "markdown",
   "metadata": {},
   "source": [
    "### 데이터 0-1 범위로 Scaling"
   ]
  },
  {
   "cell_type": "code",
   "execution_count": 5,
   "metadata": {},
   "outputs": [
    {
     "data": {
      "text/html": [
       "<div>\n",
       "<style scoped>\n",
       "    .dataframe tbody tr th:only-of-type {\n",
       "        vertical-align: middle;\n",
       "    }\n",
       "\n",
       "    .dataframe tbody tr th {\n",
       "        vertical-align: top;\n",
       "    }\n",
       "\n",
       "    .dataframe thead th {\n",
       "        text-align: right;\n",
       "    }\n",
       "</style>\n",
       "<table border=\"1\" class=\"dataframe\">\n",
       "  <thead>\n",
       "    <tr style=\"text-align: right;\">\n",
       "      <th></th>\n",
       "      <th>0</th>\n",
       "      <th>1</th>\n",
       "      <th>2</th>\n",
       "      <th>3</th>\n",
       "      <th>4</th>\n",
       "      <th>5</th>\n",
       "      <th>6</th>\n",
       "      <th>7</th>\n",
       "      <th>8</th>\n",
       "      <th>9</th>\n",
       "      <th>...</th>\n",
       "      <th>19</th>\n",
       "      <th>20</th>\n",
       "      <th>21</th>\n",
       "      <th>22</th>\n",
       "      <th>23</th>\n",
       "      <th>24</th>\n",
       "      <th>25</th>\n",
       "      <th>26</th>\n",
       "      <th>27</th>\n",
       "      <th>28</th>\n",
       "    </tr>\n",
       "  </thead>\n",
       "  <tbody>\n",
       "    <tr>\n",
       "      <td>0</td>\n",
       "      <td>0.272727</td>\n",
       "      <td>0.880282</td>\n",
       "      <td>0.827440</td>\n",
       "      <td>0.803681</td>\n",
       "      <td>0.577778</td>\n",
       "      <td>0.777273</td>\n",
       "      <td>0.625000</td>\n",
       "      <td>0.142857</td>\n",
       "      <td>0.610169</td>\n",
       "      <td>0.804511</td>\n",
       "      <td>...</td>\n",
       "      <td>0.366667</td>\n",
       "      <td>0.000000</td>\n",
       "      <td>0.266667</td>\n",
       "      <td>0.517241</td>\n",
       "      <td>0.000000</td>\n",
       "      <td>0.838710</td>\n",
       "      <td>0.750000</td>\n",
       "      <td>0.142857</td>\n",
       "      <td>0.064516</td>\n",
       "      <td>0.286488</td>\n",
       "    </tr>\n",
       "    <tr>\n",
       "      <td>1</td>\n",
       "      <td>0.227273</td>\n",
       "      <td>0.866197</td>\n",
       "      <td>0.714286</td>\n",
       "      <td>0.720859</td>\n",
       "      <td>0.459259</td>\n",
       "      <td>0.536364</td>\n",
       "      <td>0.482143</td>\n",
       "      <td>0.285714</td>\n",
       "      <td>0.237288</td>\n",
       "      <td>0.488722</td>\n",
       "      <td>...</td>\n",
       "      <td>0.100000</td>\n",
       "      <td>0.230769</td>\n",
       "      <td>0.133333</td>\n",
       "      <td>0.034483</td>\n",
       "      <td>0.142857</td>\n",
       "      <td>0.435484</td>\n",
       "      <td>0.583333</td>\n",
       "      <td>0.000000</td>\n",
       "      <td>0.000000</td>\n",
       "      <td>0.083612</td>\n",
       "    </tr>\n",
       "    <tr>\n",
       "      <td>2</td>\n",
       "      <td>0.181818</td>\n",
       "      <td>0.859155</td>\n",
       "      <td>0.743989</td>\n",
       "      <td>0.759202</td>\n",
       "      <td>0.392593</td>\n",
       "      <td>0.668182</td>\n",
       "      <td>0.607143</td>\n",
       "      <td>0.357143</td>\n",
       "      <td>0.254237</td>\n",
       "      <td>0.511278</td>\n",
       "      <td>...</td>\n",
       "      <td>0.100000</td>\n",
       "      <td>0.000000</td>\n",
       "      <td>0.466667</td>\n",
       "      <td>0.172414</td>\n",
       "      <td>0.095238</td>\n",
       "      <td>0.758065</td>\n",
       "      <td>0.750000</td>\n",
       "      <td>0.000000</td>\n",
       "      <td>0.000000</td>\n",
       "      <td>0.014515</td>\n",
       "    </tr>\n",
       "    <tr>\n",
       "      <td>3</td>\n",
       "      <td>0.272727</td>\n",
       "      <td>0.450704</td>\n",
       "      <td>0.355021</td>\n",
       "      <td>0.360429</td>\n",
       "      <td>0.185185</td>\n",
       "      <td>0.268182</td>\n",
       "      <td>0.339286</td>\n",
       "      <td>0.071429</td>\n",
       "      <td>0.118644</td>\n",
       "      <td>0.203008</td>\n",
       "      <td>...</td>\n",
       "      <td>0.033333</td>\n",
       "      <td>0.000000</td>\n",
       "      <td>0.200000</td>\n",
       "      <td>0.034483</td>\n",
       "      <td>0.190476</td>\n",
       "      <td>0.637097</td>\n",
       "      <td>0.583333</td>\n",
       "      <td>0.071429</td>\n",
       "      <td>0.000000</td>\n",
       "      <td>0.051839</td>\n",
       "    </tr>\n",
       "    <tr>\n",
       "      <td>4</td>\n",
       "      <td>0.136364</td>\n",
       "      <td>0.971831</td>\n",
       "      <td>0.947666</td>\n",
       "      <td>0.963190</td>\n",
       "      <td>0.614815</td>\n",
       "      <td>1.000000</td>\n",
       "      <td>0.839286</td>\n",
       "      <td>0.214286</td>\n",
       "      <td>0.118644</td>\n",
       "      <td>0.443609</td>\n",
       "      <td>...</td>\n",
       "      <td>0.166667</td>\n",
       "      <td>0.076923</td>\n",
       "      <td>0.333333</td>\n",
       "      <td>0.241379</td>\n",
       "      <td>0.142857</td>\n",
       "      <td>0.112903</td>\n",
       "      <td>0.000000</td>\n",
       "      <td>0.428571</td>\n",
       "      <td>0.322581</td>\n",
       "      <td>0.080268</td>\n",
       "    </tr>\n",
       "  </tbody>\n",
       "</table>\n",
       "<p>5 rows × 29 columns</p>\n",
       "</div>"
      ],
      "text/plain": [
       "         0         1         2         3         4         5         6   \\\n",
       "0  0.272727  0.880282  0.827440  0.803681  0.577778  0.777273  0.625000   \n",
       "1  0.227273  0.866197  0.714286  0.720859  0.459259  0.536364  0.482143   \n",
       "2  0.181818  0.859155  0.743989  0.759202  0.392593  0.668182  0.607143   \n",
       "3  0.272727  0.450704  0.355021  0.360429  0.185185  0.268182  0.339286   \n",
       "4  0.136364  0.971831  0.947666  0.963190  0.614815  1.000000  0.839286   \n",
       "\n",
       "         7         8         9   ...        19        20        21        22  \\\n",
       "0  0.142857  0.610169  0.804511  ...  0.366667  0.000000  0.266667  0.517241   \n",
       "1  0.285714  0.237288  0.488722  ...  0.100000  0.230769  0.133333  0.034483   \n",
       "2  0.357143  0.254237  0.511278  ...  0.100000  0.000000  0.466667  0.172414   \n",
       "3  0.071429  0.118644  0.203008  ...  0.033333  0.000000  0.200000  0.034483   \n",
       "4  0.214286  0.118644  0.443609  ...  0.166667  0.076923  0.333333  0.241379   \n",
       "\n",
       "         23        24        25        26        27        28  \n",
       "0  0.000000  0.838710  0.750000  0.142857  0.064516  0.286488  \n",
       "1  0.142857  0.435484  0.583333  0.000000  0.000000  0.083612  \n",
       "2  0.095238  0.758065  0.750000  0.000000  0.000000  0.014515  \n",
       "3  0.190476  0.637097  0.583333  0.071429  0.000000  0.051839  \n",
       "4  0.142857  0.112903  0.000000  0.428571  0.322581  0.080268  \n",
       "\n",
       "[5 rows x 29 columns]"
      ]
     },
     "execution_count": 5,
     "metadata": {},
     "output_type": "execute_result"
    }
   ],
   "source": [
    "x = data.values #returns a numpy array\n",
    "min_max_scaler = preprocessing.MinMaxScaler()\n",
    "x_scaled = min_max_scaler.fit_transform(x)\n",
    "df = pd.DataFrame(x_scaled)\n",
    "\n",
    "df.head()"
   ]
  },
  {
   "cell_type": "markdown",
   "metadata": {},
   "source": [
    "### 주성분 설명력 확인"
   ]
  },
  {
   "cell_type": "code",
   "execution_count": 6,
   "metadata": {},
   "outputs": [
    {
     "data": {
      "image/png": "[encoded data removed]",
      "text/plain": [
       "<Figure size 432x288 with 1 Axes>"
      ]
     },
     "metadata": {
      "needs_background": "light"
     },
     "output_type": "display_data"
    }
   ],
   "source": [
    "pca = PCA().fit(df)\n",
    "var = pca.explained_variance_\n",
    "y = np.cumsum(var)/np.sum(var)\n",
    "\n",
    "plt.bar(np.arange(1,len(var)+1), y, color='green', width=0.7)\n",
    "plt.show()"
   ]
  },
  {
   "cell_type": "markdown",
   "metadata": {},
   "source": [
    "### 주성분 차원 결정 및 설명력"
   ]
  },
  {
   "cell_type": "code",
   "execution_count": 7,
   "metadata": {},
   "outputs": [
    {
     "name": "stdout",
     "output_type": "stream",
     "text": [
      "0.783341739617057\n"
     ]
    }
   ],
   "source": [
    "pca = PCA(n_components=10)\n",
    "pca.fit(df)\n",
    "v = pca.explained_variance_ratio_\n",
    "\n",
    "# Adjusted R-Square를 최소화하고 설명력을 최대화하는 5차원으로 결정\n",
    "dim = 5\n",
    "Sum = 0\n",
    "# 설명력 출력\n",
    "for i in range(dim):\n",
    "    Sum += v[i]\n",
    "print(Sum)"
   ]
  },
  {
   "cell_type": "markdown",
   "metadata": {},
   "source": [
    "### PCA 분석을 위한 데이터 세팅"
   ]
  },
  {
   "cell_type": "code",
   "execution_count": 8,
   "metadata": {},
   "outputs": [
    {
     "name": "stdout",
     "output_type": "stream",
     "text": [
      "           pc1       pc2       pc3       pc4       pc5    Salary\n",
      "0    -0.975066 -0.174240 -0.510541  0.291856 -0.128752   8666000\n",
      "1    -0.186611  0.340633 -0.069707 -0.145272 -0.019925   2600000\n",
      "2    -0.418662  0.183585 -0.380362 -0.009898 -0.129333    534000\n",
      "3     0.652645 -0.066296 -0.107891  0.008863 -0.146525   1650000\n",
      "4    -0.946708  0.690321  0.681199  0.372845 -0.423704   2500000\n",
      "...        ...       ...       ...       ...       ...       ...\n",
      "1015  0.813351  0.125356  0.052906  0.048080 -0.129000   4000000\n",
      "1016  0.080607  0.030163  0.325451  0.332637  0.016021  20000000\n",
      "1017 -0.853610  0.230366 -0.199123  0.021730 -0.057781   2000000\n",
      "1018 -0.876377 -0.511585 -0.026131  0.063014 -0.080544  16500000\n",
      "1019 -0.028465 -0.201262  0.184315 -0.221512  0.052666   2975000\n",
      "\n",
      "[1020 rows x 6 columns]\n"
     ]
    }
   ],
   "source": [
    "pca = PCA(n_components=5)\n",
    "pca_x = pd.DataFrame(pca.fit_transform(df))\n",
    "pca_x.columns = ['pc1', 'pc2', 'pc3', 'pc4', 'pc5']\n",
    "salary = data['Salary']\n",
    "\n",
    "data_pca = pd.concat([pca_x, salary], axis = 1)\n",
    "data_pca.columns = ['pc1', 'pc2', 'pc3', 'pc4', 'pc5', 'Salary']\n",
    "print(data_pca)"
   ]
  },
  {
   "cell_type": "code",
   "execution_count": 9,
   "metadata": {},
   "outputs": [],
   "source": [
    "import matplotlib\n",
    "%matplotlib inline\n",
    "from sklearn.decomposition import PCA"
   ]
  },
  {
   "cell_type": "markdown",
   "metadata": {},
   "source": [
    "### PCA 데이터를 바탕으로 OLS 실행 결과"
   ]
  },
  {
   "cell_type": "code",
   "execution_count": 10,
   "metadata": {},
   "outputs": [
    {
     "name": "stdout",
     "output_type": "stream",
     "text": [
      "                            OLS Regression Results                            \n",
      "==============================================================================\n",
      "Dep. Variable:                 Salary   R-squared:                       0.754\n",
      "Model:                            OLS   Adj. R-squared:                  0.753\n",
      "Method:                 Least Squares   F-statistic:                     777.7\n",
      "Date:                Sat, 07 Dec 2019   Prob (F-statistic):          3.13e-307\n",
      "Time:                        15:57:50   Log-Likelihood:                -16751.\n",
      "No. Observations:                1020   AIC:                         3.351e+04\n",
      "Df Residuals:                    1015   BIC:                         3.354e+04\n",
      "Df Model:                           4                                         \n",
      "Covariance Type:            nonrobust                                         \n",
      "==============================================================================\n",
      "                 coef    std err          t      P>|t|      [0.025      0.975]\n",
      "------------------------------------------------------------------------------\n",
      "Intercept   6.192e+06   1.03e+05     60.148      0.000    5.99e+06    6.39e+06\n",
      "pc1        -4.502e+06   1.49e+05    -30.174      0.000    -4.8e+06   -4.21e+06\n",
      "pc2        -1.186e+07   3.18e+05    -37.333      0.000   -1.25e+07   -1.12e+07\n",
      "pc3         8.716e+06   4.06e+05     21.490      0.000    7.92e+06    9.51e+06\n",
      "pc5          1.06e+07   5.71e+05     18.568      0.000    9.48e+06    1.17e+07\n",
      "==============================================================================\n",
      "Omnibus:                       87.387   Durbin-Watson:                   2.028\n",
      "Prob(Omnibus):                  0.000   Jarque-Bera (JB):              486.940\n",
      "Skew:                           0.087   Prob(JB):                    1.83e-106\n",
      "Kurtosis:                       6.380   Cond. No.                         5.54\n",
      "==============================================================================\n",
      "\n",
      "Warnings:\n",
      "[1] Standard Errors assume that the covariance matrix of the errors is correctly specified.\n"
     ]
    }
   ],
   "source": [
    "model = sm.OLS.from_formula('Salary ~ pc1 + pc2 + pc3 + pc5', data=data_pca)\n",
    "fit = model.fit()\n",
    "print(fit.summary())"
   ]
  },
  {
   "cell_type": "code",
   "execution_count": 11,
   "metadata": {},
   "outputs": [],
   "source": [
    "data_pca.to_csv(\"data/data_pca.csv\")"
   ]
  },
  {
   "cell_type": "code",
   "execution_count": 12,
   "metadata": {},
   "outputs": [],
   "source": [
    "from sklearn.model_selection import KFold\n",
    "from sklearn.linear_model import LinearRegression\n",
    "from sklearn.metrics import r2_score"
   ]
  },
  {
   "cell_type": "code",
   "execution_count": 13,
   "metadata": {},
   "outputs": [],
   "source": [
    "data_pca_f = pd.DataFrame(data_pca, \n",
    "                          columns = ['pc1', 'pc2', 'pc3', 'pc4', 'pc5','Salary'])\n",
    "data_pca_x = pd.DataFrame(data_pca_f, \n",
    "                          columns = ['pc1', 'pc2', 'pc3', 'pc4', 'pc5'])\n",
    "data_pca_y = pd.DataFrame(data_pca_f, \n",
    "                          columns = ['Salary'])\n"
   ]
  },
  {
   "cell_type": "markdown",
   "metadata": {},
   "source": [
    "### Cross-validation"
   ]
  },
  {
   "cell_type": "code",
   "execution_count": 14,
   "metadata": {},
   "outputs": [
    {
     "name": "stdout",
     "output_type": "stream",
     "text": [
      "[0.7035573  0.75764995 0.78363781 0.7537523  0.75779461]\n",
      "0.7512783941081012\n"
     ]
    }
   ],
   "source": [
    "cv = KFold(5, shuffle=True, random_state=0)\n",
    "model = LinearRegression()\n",
    "\n",
    "scores = np.zeros(5)\n",
    "for i, (train_index, test_index) in enumerate(cv.split(data_pca_y)):\n",
    "    X_train = data_pca_x.loc[train_index]\n",
    "    y_train = data_pca_y['Salary'][train_index]\n",
    "    X_test = data_pca_x.loc[test_index]\n",
    "    y_test = data_pca_y['Salary'][test_index]\n",
    "    model.fit(X_train, y_train)\n",
    "    y_pre = model.predict(X_test)\n",
    "    scores[i] = r2_score(y_test, y_pre)\n",
    "\n",
    "print(scores)\n",
    "print(np.mean(scores))"
   ]
  },
  {
   "cell_type": "markdown",
   "metadata": {},
   "source": [
    "### 주성분 구성요소 분석"
   ]
  },
  {
   "cell_type": "code",
   "execution_count": 16,
   "metadata": {},
   "outputs": [
    {
     "data": {
      "text/html": [
       "<div>\n",
       "<style scoped>\n",
       "    .dataframe tbody tr th:only-of-type {\n",
       "        vertical-align: middle;\n",
       "    }\n",
       "\n",
       "    .dataframe tbody tr th {\n",
       "        vertical-align: top;\n",
       "    }\n",
       "\n",
       "    .dataframe thead th {\n",
       "        text-align: right;\n",
       "    }\n",
       "</style>\n",
       "<table border=\"1\" class=\"dataframe\">\n",
       "  <thead>\n",
       "    <tr style=\"text-align: right;\">\n",
       "      <th></th>\n",
       "      <th>Age</th>\n",
       "      <th>G</th>\n",
       "      <th>PA</th>\n",
       "      <th>AB</th>\n",
       "      <th>R</th>\n",
       "      <th>H</th>\n",
       "      <th>2B</th>\n",
       "      <th>3B</th>\n",
       "      <th>HR</th>\n",
       "      <th>RBI</th>\n",
       "      <th>...</th>\n",
       "      <th>GDP</th>\n",
       "      <th>HBP</th>\n",
       "      <th>SH</th>\n",
       "      <th>SF</th>\n",
       "      <th>IBB</th>\n",
       "      <th>Career</th>\n",
       "      <th>Weight</th>\n",
       "      <th>Height</th>\n",
       "      <th>AllStar</th>\n",
       "      <th>Awards</th>\n",
       "    </tr>\n",
       "  </thead>\n",
       "  <tbody>\n",
       "    <tr>\n",
       "      <td>0</td>\n",
       "      <td>-0.005925</td>\n",
       "      <td>-0.331917</td>\n",
       "      <td>-0.351452</td>\n",
       "      <td>-0.337117</td>\n",
       "      <td>-0.268342</td>\n",
       "      <td>-0.300877</td>\n",
       "      <td>-0.238197</td>\n",
       "      <td>-0.081001</td>\n",
       "      <td>-0.190402</td>\n",
       "      <td>-0.276343</td>\n",
       "      <td>...</td>\n",
       "      <td>-0.179478</td>\n",
       "      <td>-0.076228</td>\n",
       "      <td>0.021566</td>\n",
       "      <td>-0.139267</td>\n",
       "      <td>-0.090872</td>\n",
       "      <td>-0.044701</td>\n",
       "      <td>-0.037343</td>\n",
       "      <td>-0.035418</td>\n",
       "      <td>-0.104772</td>\n",
       "      <td>-0.062394</td>\n",
       "    </tr>\n",
       "    <tr>\n",
       "      <td>1</td>\n",
       "      <td>-0.313267</td>\n",
       "      <td>0.146913</td>\n",
       "      <td>0.101529</td>\n",
       "      <td>0.120100</td>\n",
       "      <td>0.078440</td>\n",
       "      <td>0.105470</td>\n",
       "      <td>0.051958</td>\n",
       "      <td>0.288136</td>\n",
       "      <td>-0.144464</td>\n",
       "      <td>-0.114220</td>\n",
       "      <td>...</td>\n",
       "      <td>-0.110655</td>\n",
       "      <td>0.012828</td>\n",
       "      <td>0.282658</td>\n",
       "      <td>-0.043208</td>\n",
       "      <td>-0.100744</td>\n",
       "      <td>-0.346280</td>\n",
       "      <td>-0.270783</td>\n",
       "      <td>-0.207699</td>\n",
       "      <td>-0.247414</td>\n",
       "      <td>-0.152587</td>\n",
       "    </tr>\n",
       "    <tr>\n",
       "      <td>2</td>\n",
       "      <td>0.351266</td>\n",
       "      <td>0.023862</td>\n",
       "      <td>0.035684</td>\n",
       "      <td>0.045179</td>\n",
       "      <td>0.011575</td>\n",
       "      <td>0.088081</td>\n",
       "      <td>0.011570</td>\n",
       "      <td>0.112485</td>\n",
       "      <td>-0.242644</td>\n",
       "      <td>-0.145559</td>\n",
       "      <td>...</td>\n",
       "      <td>0.065243</td>\n",
       "      <td>-0.036218</td>\n",
       "      <td>0.218905</td>\n",
       "      <td>0.040074</td>\n",
       "      <td>-0.024814</td>\n",
       "      <td>0.381251</td>\n",
       "      <td>-0.324590</td>\n",
       "      <td>-0.413959</td>\n",
       "      <td>0.176746</td>\n",
       "      <td>0.122627</td>\n",
       "    </tr>\n",
       "    <tr>\n",
       "      <td>3</td>\n",
       "      <td>-0.124895</td>\n",
       "      <td>-0.287788</td>\n",
       "      <td>-0.166242</td>\n",
       "      <td>-0.191633</td>\n",
       "      <td>0.119938</td>\n",
       "      <td>0.040039</td>\n",
       "      <td>0.074468</td>\n",
       "      <td>0.177941</td>\n",
       "      <td>0.082130</td>\n",
       "      <td>0.026710</td>\n",
       "      <td>...</td>\n",
       "      <td>-0.243936</td>\n",
       "      <td>0.033443</td>\n",
       "      <td>-0.171850</td>\n",
       "      <td>-0.104262</td>\n",
       "      <td>0.133097</td>\n",
       "      <td>-0.129076</td>\n",
       "      <td>-0.099695</td>\n",
       "      <td>-0.046550</td>\n",
       "      <td>0.123983</td>\n",
       "      <td>0.066578</td>\n",
       "    </tr>\n",
       "    <tr>\n",
       "      <td>4</td>\n",
       "      <td>0.068046</td>\n",
       "      <td>0.010332</td>\n",
       "      <td>0.006638</td>\n",
       "      <td>-0.030170</td>\n",
       "      <td>0.104362</td>\n",
       "      <td>-0.101745</td>\n",
       "      <td>-0.187499</td>\n",
       "      <td>0.274971</td>\n",
       "      <td>0.023287</td>\n",
       "      <td>-0.128165</td>\n",
       "      <td>...</td>\n",
       "      <td>-0.394367</td>\n",
       "      <td>0.031244</td>\n",
       "      <td>0.154340</td>\n",
       "      <td>-0.184586</td>\n",
       "      <td>-0.005428</td>\n",
       "      <td>0.084014</td>\n",
       "      <td>0.084045</td>\n",
       "      <td>0.412990</td>\n",
       "      <td>0.035859</td>\n",
       "      <td>0.019911</td>\n",
       "    </tr>\n",
       "  </tbody>\n",
       "</table>\n",
       "<p>5 rows × 28 columns</p>\n",
       "</div>"
      ],
      "text/plain": [
       "        Age         G        PA        AB         R         H        2B  \\\n",
       "0 -0.005925 -0.331917 -0.351452 -0.337117 -0.268342 -0.300877 -0.238197   \n",
       "1 -0.313267  0.146913  0.101529  0.120100  0.078440  0.105470  0.051958   \n",
       "2  0.351266  0.023862  0.035684  0.045179  0.011575  0.088081  0.011570   \n",
       "3 -0.124895 -0.287788 -0.166242 -0.191633  0.119938  0.040039  0.074468   \n",
       "4  0.068046  0.010332  0.006638 -0.030170  0.104362 -0.101745 -0.187499   \n",
       "\n",
       "         3B        HR       RBI  ...       GDP       HBP        SH        SF  \\\n",
       "0 -0.081001 -0.190402 -0.276343  ... -0.179478 -0.076228  0.021566 -0.139267   \n",
       "1  0.288136 -0.144464 -0.114220  ... -0.110655  0.012828  0.282658 -0.043208   \n",
       "2  0.112485 -0.242644 -0.145559  ...  0.065243 -0.036218  0.218905  0.040074   \n",
       "3  0.177941  0.082130  0.026710  ... -0.243936  0.033443 -0.171850 -0.104262   \n",
       "4  0.274971  0.023287 -0.128165  ... -0.394367  0.031244  0.154340 -0.184586   \n",
       "\n",
       "        IBB    Career    Weight    Height   AllStar    Awards  \n",
       "0 -0.090872 -0.044701 -0.037343 -0.035418 -0.104772 -0.062394  \n",
       "1 -0.100744 -0.346280 -0.270783 -0.207699 -0.247414 -0.152587  \n",
       "2 -0.024814  0.381251 -0.324590 -0.413959  0.176746  0.122627  \n",
       "3  0.133097 -0.129076 -0.099695 -0.046550  0.123983  0.066578  \n",
       "4 -0.005428  0.084014  0.084045  0.412990  0.035859  0.019911  \n",
       "\n",
       "[5 rows x 28 columns]"
      ]
     },
     "execution_count": 16,
     "metadata": {},
     "output_type": "execute_result"
    }
   ],
   "source": [
    "df_com = pd.DataFrame(pca.components_, columns = data.columns)\n",
    "df_com = df_com.drop(\"Salary\", axis='columns')\n",
    "df_com"
   ]
  },
  {
   "cell_type": "code",
   "execution_count": 187,
   "metadata": {
    "collapsed": true,
    "jupyter": {
     "outputs_hidden": true
    }
   },
   "outputs": [
    {
     "name": "stdout",
     "output_type": "stream",
     "text": [
      "            minus      plus\n",
      "Age     -0.005925  0.000000\n",
      "SH       0.000000  0.021566\n",
      "Height  -0.035418  0.000000\n",
      "Weight  -0.037343  0.000000\n",
      "Career  -0.044701  0.000000\n",
      "CS      -0.054739  0.000000\n",
      "SB      -0.060351  0.000000\n",
      "Awards  -0.062394  0.000000\n",
      "HBP     -0.076228  0.000000\n",
      "3B      -0.081001  0.000000\n",
      "IBB     -0.090872  0.000000\n",
      "AllStar -0.104772  0.000000\n",
      "OBP     -0.104890  0.000000\n",
      "BA      -0.107860  0.000000\n",
      "SLG     -0.131475  0.000000\n",
      "SF      -0.139267  0.000000\n",
      "BB      -0.172901  0.000000\n",
      "GDP     -0.179478  0.000000\n",
      "HR      -0.190402  0.000000\n",
      "SO      -0.193619  0.000000\n",
      "2B      -0.238197  0.000000\n",
      "R       -0.268342  0.000000\n",
      "RBI     -0.276343  0.000000\n",
      "H       -0.300877  0.000000\n",
      "TB      -0.303152  0.000000\n",
      "G       -0.331917  0.000000\n",
      "AB      -0.337117  0.000000\n",
      "PA      -0.351452  0.000000\n"
     ]
    }
   ],
   "source": [
    "compo = []\n",
    "for i in range(5):\n",
    "    com = pd.DataFrame(df_com.loc[i])\n",
    "    com.columns = ['minus']\n",
    "    com = com.reindex(com['minus'].abs().sort_values(ascending=True).index)\n",
    "    com['plus'] = 0\n",
    "    copy = com.copy()\n",
    "    k = 0\n",
    "    \n",
    "    for i in range(len(copy['minus'])):\n",
    "        if copy['minus'].iloc[i]>0:\n",
    "            k = copy['minus'].iloc[i]\n",
    "            com['plus'].iloc[i] = k\n",
    "            com['minus'].iloc[i] = 0\n",
    "        \n",
    "    compo.append(com)\n",
    "    \n",
    "print(compo[0])"
   ]
  },
  {
   "cell_type": "code",
   "execution_count": 199,
   "metadata": {},
   "outputs": [
    {
     "data": {
      "image/png": "[encoded data removed]",
      "text/plain": [
       "<Figure size 576x576 with 1 Axes>"
      ]
     },
     "metadata": {
      "needs_background": "light"
     },
     "output_type": "display_data"
    },
    {
     "data": {
      "image/png": "[encoded data removed]",
      "text/plain": [
       "<Figure size 576x576 with 1 Axes>"
      ]
     },
     "metadata": {
      "needs_background": "light"
     },
     "output_type": "display_data"
    },
    {
     "data": {
      "image/png": "[encoded data removed]",
      "text/plain": [
       "<Figure size 576x576 with 1 Axes>"
      ]
     },
     "metadata": {
      "needs_background": "light"
     },
     "output_type": "display_data"
    },
    {
     "data": {
      "image/png": "[encoded data removed]",
      "text/plain": [
       "<Figure size 576x576 with 1 Axes>"
      ]
     },
     "metadata": {
      "needs_background": "light"
     },
     "output_type": "display_data"
    },
    {
     "data": {
      "image/png": "[encoded data removed]",
      "text/plain": [
       "<Figure size 576x576 with 1 Axes>"
      ]
     },
     "metadata": {
      "needs_background": "light"
     },
     "output_type": "display_data"
    }
   ],
   "source": [
    "for i in range(5):\n",
    "    plt.rcParams[\"figure.figsize\"] = (8,8)\n",
    "    plt.title('Component'+str(i+1))\n",
    "    plt.barh(compo[i].index, compo[i]['minus'], color = 'tab:orange')\n",
    "    plt.barh(compo[i].index, compo[i]['plus'], color = 'tab:blue')\n",
    "    plt.xlabel('Weight')\n",
    "    plt.ylabel('Features')\n",
    "    plt.show()\n"
   ]
  },
  {
   "cell_type": "code",
   "execution_count": null,
   "metadata": {},
   "outputs": [],
   "source": []
  }
 ],
 "metadata": {
  "kernelspec": {
   "display_name": "Python 3",
   "language": "python",
   "name": "python3"
  },
  "language_info": {
   "codemirror_mode": {
    "name": "ipython",
    "version": 3
   },
   "file_extension": ".py",
   "mimetype": "text/x-python",
   "name": "python",
   "nbconvert_exporter": "python",
   "pygments_lexer": "ipython3",
   "version": "3.7.0"
  }
 },
 "nbformat": 4,
 "nbformat_minor": 4
}
