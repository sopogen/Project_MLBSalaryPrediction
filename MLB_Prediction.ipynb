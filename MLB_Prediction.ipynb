{
 "cells": [
  {
   "cell_type": "markdown",
   "metadata": {},
   "source": [
    "# MLB Salary Prediction\n",
    "#### : Predict the next year's salary of MLB batters with their stats data"
   ]
  },
  {
   "cell_type": "code",
   "execution_count": 2,
   "metadata": {},
   "outputs": [],
   "source": [
    "# Find salaries and add to the df\n",
    "import pandas as pd\n",
    "import numpy as np\n",
    "import requests\n",
    "import csv\n",
    "import re\n",
    "from bs4 import BeautifulSoup, Comment\n",
    "from sklearn import linear_model\n",
    "import numpy as np\n",
    "import pandas as pd\n",
    "import matplotlib\n",
    "import matplotlib.pyplot as plt\n",
    "%matplotlib inline\n",
    "matplotlib.style.use('ggplot')\n",
    "import statsmodels.api as sm\n",
    "from sklearn import preprocessing\n",
    "from sklearn.decomposition import PCA\n",
    "from sklearn.model_selection import KFold\n",
    "from sklearn.linear_model import LinearRegression\n",
    "from sklearn.metrics import r2_score\n",
    "from keras import optimizers\n",
    "from keras import models\n",
    "from keras import layers "
   ]
  },
  {
   "cell_type": "markdown",
   "metadata": {},
   "source": [
    "## 1. Data Crawling"
   ]
  },
  {
   "cell_type": "markdown",
   "metadata": {},
   "source": [
    "##### : Original data is provided by \"baseball-reference.com\", but there was need to collect the career of each player which is not included in the data"
   ]
  },
  {
   "cell_type": "code",
   "execution_count": 6,
   "metadata": {},
   "outputs": [
    {
     "name": "stdin",
     "output_type": "stream",
     "text": [
      "Year:  2014\n"
     ]
    }
   ],
   "source": [
    "year = input(\"Year: \")\n",
    "file = \"data/stsal_\"+year+\".csv\" \n",
    "data = pd.read_csv(file, index_col=0)\n",
    "data.insert(28, 'Career', 0)"
   ]
  },
  {
   "cell_type": "markdown",
   "metadata": {},
   "source": [
    "- ### Collecting the career of listed players"
   ]
  },
  {
   "cell_type": "code",
   "execution_count": 7,
   "metadata": {
    "collapsed": true,
    "jupyter": {
     "outputs_hidden": true
    }
   },
   "outputs": [
    {
     "name": "stdout",
     "output_type": "stream",
     "text": [
      "0 abreujo02 1\n",
      "1 abreuto01 "
     ]
    },
    {
     "name": "stderr",
     "output_type": "stream",
     "text": [
      "C:\\ProgramData\\Anaconda3\\lib\\site-packages\\ipykernel_launcher.py:32: SettingWithCopyWarning: \n",
      "A value is trying to be set on a copy of a slice from a DataFrame\n",
      "\n",
      "See the caveats in the documentation: http://pandas.pydata.org/pandas-docs/stable/indexing.html#indexing-view-versus-copy\n"
     ]
    },
    {
     "name": "stdout",
     "output_type": "stream",
     "text": [
      "8\n",
      "2 ackledu01 4\n",
      "3 adamsma01 3\n",
      "4 adducji02 2\n",
      "5 adriaeh01 2\n",
      "6 almonzo01 2\n",
      "7 alonsyo01 5\n",
      "8 altuvjo01 4\n",
      "9 alvarpe01 5\n",
      "10 amarial01 4\n",
      "11 andruel01 6\n",
      "12 aokino01 3\n",
      "13 arciaos01 2\n",
      "14 arenano01 2\n",
      "15 ariasjo01 9\n",
      "16 arrueba01 1\n",
      "17 ascheco01 2\n",
      "18 avilaal01 6\n",
      "19 avilemi01 7\n",
      "20 aybarer01 9\n",
      "21 bakerje03 10\n",
      "22 barmecl01 12\n",
      "23 barnebr02 3\n",
      "24 bartlja01 11\n",
      "25 bartoda02 8\n",
      "26 bautijo02 11\n",
      "27 baxtemi01 5\n",
      "28 beckhgo01 6\n",
      "29 beltbr01 4\n",
      "30 beltrca01 17\n",
      "31 beltrad01 17\n",
      "32 biancje01 3\n",
      "33 blackch02 4\n",
      "34 blancgr01 7\n",
      "35 blankky01 6\n",
      "36 bloomwi01 13\n",
      "37 bogaexa01 2\n",
      "38 bonifem01 8\n",
      "39 bourjpe01 5\n",
      "40 bournmi01 9\n",
      "41 bradlja02 2\n",
      "42 brantmi02 6\n",
      "43 braunry02 8\n",
      "44 brownan02 4\n",
      "45 browndo01 5\n",
      "46 bruceja01 7\n",
      "47 buckjo01 11\n",
      "48 butlebi03 8\n",
      "49 byrdma01 13\n",
      "50 cabreas01 8\n",
      "51 cabreev01 6\n",
      "52 cabreme01 10\n",
      "53 cabremi01 12\n",
      "54 cainlo01 5\n",
      "55 calhoko01 3\n",
      "56 callaal01 9\n",
      "57 campato01 4\n",
      "58 canoro01 10\n",
      "59 carpmi01 6\n",
      "60 carpema01 4\n",
      "61 cartech02 5\n",
      "62 casteni01 2\n",
      "63 castiru02 1\n",
      "64 castiwe01 5\n",
      "65 castrja01 5\n",
      "66 castrst01 5\n",
      "67 cervefr01 7\n",
      "68 chaveer01 17\n",
      "69 chiriro01 4\n",
      "70 chiselo01 4\n",
      "71 choicmi01 2\n",
      "72 choosh01 10\n",
      "73 ciriape01 5\n",
      "74 clevest01 4\n",
      "75 colabch01 2\n",
      "76 colvity01 6\n",
      "77 congeha01 5\n",
      "78 corpoca01 6\n",
      "79 cowgico01 4\n",
      "80 cozarza01 4\n",
      "81 crawfbr01 4\n",
      "82 crawfca02 13\n",
      "83 crispco01 13\n",
      "84 cruzne02 10\n",
      "85 cruzto03 4\n",
      "86 cuddymi01 14\n",
      "87 culbech01 3\n",
      "88 darnatr01 2\n",
      "89 davisch02 7\n",
      "90 daviskh01 2\n",
      "91 davisra01 9\n",
      "92 deazaal01 8\n",
      "93 dejesda01 12\n",
      "94 denorch01 10\n",
      "95 desmoia01 6\n",
      "96 dickeco01 2\n",
      "97 dietrde01 2\n",
      "98 dobbsgr01 11\n",
      "99 dominma01 4\n",
      "100 donaljo02 5\n",
      "101 doumiry01 10\n",
      "102 doziebr01 3\n",
      "103 drewst01 9\n",
      "104 dudalu01 5\n",
      "105 dunnad01 14\n",
      "106 dysonja01 5\n",
      "107 eatonad02 3\n",
      "108 ellisaj01 7\n",
      "109 ellisma01 13\n",
      "110 ellsbja01 8\n",
      "111 encared01 10\n",
      "112 escobal02 7\n",
      "113 escobed01 4\n",
      "114 escobyu01 8\n",
      "115 espinda01 5\n",
      "116 ethiean01 9\n",
      "117 fieldpr01 10\n",
      "118 flahery01 3\n",
      "119 floripe01 4\n",
      "120 flowety01 6\n",
      "121 forsylo01 4\n",
      "122 fowlede01 7\n",
      "123 frandke01 9\n",
      "124 frankni01 2\n",
      "125 frazito01 4\n",
      "126 freemfr01 5\n",
      "127 freesda01 6\n",
      "128 fuldsa01 8\n",
      "129 furcara02 15\n",
      "130 galvifr01 3\n",
      "131 garciav01 3\n",
      "132 gardnbr01 7\n",
      "133 gattiev01 2\n",
      "134 gennesc01 2\n",
      "135 gentrcr01 6\n",
      "136 giavojo01 4\n",
      "137 gillaco01 7\n",
      "138 gimench01 6\n",
      "139 goinsry01 2\n",
      "140 goldspa01 4\n",
      "141 gomesjo01 12\n",
      "142 gomesya01 3\n",
      "143 gomezca01 8\n",
      "144 gonzaad01 11\n",
      "145 gonzaal02 17\n",
      "146 gonzaca01 7\n",
      "147 gonzama01 3\n",
      "148 gordoal01 8\n",
      "149 gordode01 4\n",
      "150 gosewtu01 2\n",
      "151 grandya01 3\n",
      "152 grandcu01 11\n",
      "153 greengr01 2\n",
      "154 gregodi01 3\n",
      "155 grossro01 2\n",
      "156 guerral01 1\n",
      "157 guyerbr01 4\n",
      "158 guzmaje01 6\n",
      "159 gwynnto02 9\n",
      "160 gyorkje01 2\n",
      "161 hairssc01 11\n",
      "162 hamilbi02 2\n",
      "163 hamiljo03 8\n",
      "164 hanigry01 8\n",
      "165 hannaja01 9\n",
      "166 hardyjj01 10\n",
      "167 harpebr03 3\n",
      "168 harrijo05 4\n",
      "169 hartco01 11\n",
      "170 hayesbr01 6\n",
      "171 hechaad01 3\n",
      "172 heisech01 5\n",
      "173 hernace02 2\n",
      "174 herreel01 3\n",
      "175 herrejo03 7\n",
      "176 herrmch01 3\n",
      "177 heywaja01 5\n",
      "178 hicksaa01 2\n",
      "179 hillaa01 10\n",
      "180 hoeslj01 3\n",
      "181 holadbr01 3\n",
      "182 hollima01 11\n",
      "183 hosmeer01 4\n",
      "184 howarry01 11\n",
      "185 hunteto01 18\n",
      "186 iannech01 9\n",
      "187 ibanera01 19\n",
      "188 infanom01 13\n",
      "189 izturma01 11\n",
      "190 jacksau01 5\n",
      "191 jasojo01 7\n",
      "192 jayjo02 5\n",
      "193 jennide01 5\n",
      "194 jeterde01 20\n",
      "195 johnsch05 6\n",
      "196 johnsel02 7\n",
      "197 johnske05 10\n",
      "198 johnsre02 12\n",
      "199 jonesad01 9\n",
      "200 jonesga02 8\n",
      "201 joycema01 7\n",
      "202 kalisry01 5\n",
      "203 kellydo01 8\n",
      "204 kempma01 9\n",
      "205 kendrho01 9\n",
      "206 kinslia01 9\n",
      "207 kipnija01 4\n",
      "208 koberje01 2\n",
      "209 konerpa01 18\n",
      "210 kozmape01 4\n",
      "211 kratzer01 5\n",
      "212 krausma01 2\n",
      "213 kubelja01 11\n",
      "214 lagarju01 2\n",
      "215 lairdge01 12\n",
      "216 lakeju01 2\n",
      "217 larocad01 11\n",
      "218 lavarry01 4\n",
      "219 lawribr01 4\n",
      "220 lemahdj01 4\n",
      "221 leonsa01 3\n",
      "222 lindad01 9\n",
      "223 lobatjo01 6\n",
      "224 lombast02 4\n",
      "225 loneyja01 9\n",
      "226 longoev01 7\n",
      "227 loughda01 3\n",
      "228 lowrije01 7\n",
      "229 lucased01 2\n",
      "230 lucrojo01 5\n",
      "231 ludwiry01 13\n",
      "232 machama01 3\n",
      "233 marisja01 2\n",
      "234 markani01 9\n",
      "235 martest01 3\n",
      "236 martile01 4\n",
      "237 martiru01 9\n",
      "238 martivi01 13\n",
      "239 mathije01 10\n",
      "240 mauerjo01 11\n",
      "241 maxweju01 8\n",
      "242 maybejo02 6\n",
      "243 maybica01 8\n",
      "244 mccanbr01 10\n",
      "245 mccutan01 6\n",
      "246 mcdonjo03 16\n",
      "247 mcgehca01 7\n",
      "248 mckenmi01 5\n",
      "249 mclouna01 10\n",
      "250 medicto01 2\n",
      "251 mercejo03 3\n",
      "252 mesorde01 4\n",
      "253 middlwi01 3\n",
      "254 millebr02 2\n",
      "255 molinjo01 16\n",
      "256 molinya01 11\n",
      "257 montemi01 9\n",
      "258 moorety01 3\n",
      "259 morneju01 12\n",
      "260 morrilo01 5\n",
      "261 morsemi01 10\n",
      "262 mossbr01 8\n",
      "263 moustmi01 4\n",
      "264 murphda08 7\n",
      "265 murphda07 9\n",
      "266 murphdo01 11\n",
      "267 murphjr01 2\n",
      "268 myerswi01 2\n",
      "269 nadyxa01 15\n",
      "270 napolmi01 9\n",
      "271 navada01 5\n",
      "272 navardi01 11\n",
      "273 nievewi01 13\n",
      "274 nixja01 7\n",
      "275 norride01 3\n",
      "276 oltmi01 3\n",
      "277 ortizda01 18\n",
      "278 owingch01 2\n",
      "279 ozunama01 2\n",
      "280 pachejo01 4\n",
      "281 paganan01 9\n",
      "282 parrage01 6\n",
      "283 pastoty01 3\n",
      "284 pearcst01 8\n",
      "285 pedrodu01 9\n",
      "286 penabr01 10\n",
      "287 penara02 6\n",
      "288 pencehu01 8\n",
      "289 pennicl01 7\n",
      "290 peraljh01 12\n",
      "291 perezju02 2\n",
      "292 perezsa02 4\n",
      "293 phillbr01 13\n",
      "294 pierza.01 17\n",
      "295 pintojo01 2\n",
      "296 plouftr01 5\n",
      "297 polloaj01 3\n",
      "298 poseybu01 6\n",
      "299 puigya01 2\n",
      "300 pujolal01 14\n",
      "301 puntoni01 14\n",
      "302 quentca01 9\n",
      "303 raburry01 11\n",
      "304 ramiral03 7\n",
      "305 ramirar01 17\n",
      "306 ramirha01 10\n",
      "307 ramoswi01 5\n",
      "308 rasmuco01 6\n",
      "309 reckean01 4\n",
      "310 reddijo01 6\n",
      "311 rendoan01 2\n",
      "312 reverbe01 5\n",
      "313 reyesjo01 12\n",
      "314 reynoma01 8\n",
      "315 riosal01 11\n",
      "316 riverre01 11\n",
      "317 rizzoan01 4\n",
      "318 roberbr01 14\n",
      "319 robinsh01 6\n",
      "320 rodrise01 7\n",
      "321 rolliji01 15\n",
      "322 rominau01 4\n",
      "323 rosalad01 7\n",
      "324 rosarwi01 4\n",
      "325 rossco01 12\n",
      "326 rossda01 13\n",
      "327 rufda01 3\n",
      "328 ruggiju01 8\n",
      "329 ruizca01 9\n",
      "330 ruppca01 2\n",
      "331 rutlejo01 3\n",
      "332 ryanbr01 8\n",
      "333 saltaja01 8\n",
      "334 sanchga01 7\n",
      "335 sanchhe01 4\n",
      "336 sanchto01 2\n",
      "337 sandopa01 7\n",
      "338 santaca01 5\n",
      "339 santira01 13\n",
      "340 satinjo01 4\n",
      "341 saundmi01 6\n",
      "342 schafjo02 6\n",
      "343 schaflo01 4\n",
      "344 schiena01 8\n",
      "345 schoojo01 2\n",
      "346 scutama01 13\n",
      "347 seageky01 4\n",
      "348 segurje01 3\n",
      "349 selleju01 4\n",
      "350 semiema01 2\n",
      "351 shuckja01 4\n",
      "352 sierrmo01 3\n",
      "353 simmoan01 3\n",
      "354 singljo02 1\n",
      "355 sizemgr01 11\n",
      "356 smithse01 8\n",
      "357 smoakju01 5\n",
      "358 sogarer01 5\n",
      "359 solando01 3\n",
      "360 soriaal01 16\n",
      "361 sotoge01 10\n",
      "362 sotone01 2\n",
      "363 spande01 7\n",
      "364 stantmi03 5\n",
      "365 stewach01 9\n",
      "366 stubbdr01 6\n",
      "367 suzukic01 14\n",
      "368 suzukku01 8\n",
      "369 sweenry01 9\n",
      "370 swishni01 11\n",
      "371 tabatjo01 5\n",
      "372 teixema01 12\n",
      "373 tejadru01 5\n",
      "374 tholejo01 6\n",
      "375 troutmi01 4\n",
      "376 trumbma01 5\n",
      "377 tulowtr01 9\n",
      "378 turneju01 6\n",
      "379 ugglada01 9\n",
      "380 uptonju01 8\n",
      "381 uptonbj01 11\n",
      "382 uribeju01 14\n",
      "383 utleych01 12\n",
      "384 valbulu01 7\n",
      "385 valenda01 5\n",
      "386 vanslsc01 3\n",
      "387 venabwi01 7\n",
      "388 vicieda01 5\n",
      "389 victosh01 12\n",
      "390 villajo01 2\n",
      "391 vogtst01 3\n",
      "392 vottojo01 8\n",
      "393 walkene01 6\n",
      "394 weeksje01 4\n",
      "395 weeksri01 12\n",
      "396 werthja01 13\n",
      "397 wheelry01 3\n",
      "398 wietema01 6\n",
      "399 willijo03 11\n",
      "400 wongko01 2\n",
      "401 wrighda03 11\n",
      "402 yelicch01 2\n",
      "403 youngch04 9\n",
      "404 younger03 6\n",
      "405 zimmery01 10\n",
      "406 zobribe01 9\n",
      "407 zuninmi01 2\n",
      "Work done!\n"
     ]
    }
   ],
   "source": [
    "# Access to the player's individual page\n",
    "count = 0\n",
    "for i in data[\"Name\"]:\n",
    "    print(count, end=\" \")\n",
    "    code = i.split(\"\\\\\")[-1]\n",
    "    print(code, end=\" \")\n",
    "    url = \"https://www.baseball-reference.com/players/\"+code[0]+\"/\"+code+\".shtml\"\n",
    "    #print(url)\n",
    "    r = requests.post(url)\n",
    "    soup = BeautifulSoup(r.text, \"html.parser\")\n",
    "    comments = soup.findAll(text=lambda text:isinstance(text, Comment))\n",
    "    location = 0    \n",
    "    \n",
    "    # Access to the beginning year of career in the individual page\n",
    "    for j in comments:\n",
    "        if j.find('<div class=\"overthrow table_container\" id=\"div_batting_value\">') != -1:\n",
    "            break\n",
    "        location += 1\n",
    "    commentsoup = BeautifulSoup(comments[location] , 'lxml')\n",
    "    tr = commentsoup.find('tr', attrs={'class':'full'})\n",
    "    text = str(tr)\n",
    "    start_year = re.findall(\"id=\\\"batting_value.(\\d+)\", text)[0]\n",
    "\n",
    "    # Calculate total career\n",
    "    career = int(year) - int(start_year) + 1\n",
    "    print(career)\n",
    "    data['Career'][count] = career\n",
    "    count += 1\n",
    "    \n",
    "print(\"Work done!\")"
   ]
  },
  {
   "cell_type": "code",
   "execution_count": 8,
   "metadata": {},
   "outputs": [],
   "source": [
    "data.to_csv(\"data/crawled_\"+year+\".csv\" )"
   ]
  },
  {
   "cell_type": "markdown",
   "metadata": {},
   "source": [
    "## 2. Preprocessing"
   ]
  },
  {
   "cell_type": "code",
   "execution_count": null,
   "metadata": {},
   "outputs": [],
   "source": [
    "year = input(\"Year: \")\n",
    "file = \"data/crawled_\"+year+\".csv\" \n",
    "data = pd.read_csv(file)"
   ]
  },
  {
   "cell_type": "code",
   "execution_count": 3,
   "metadata": {},
   "outputs": [
    {
     "data": {
      "text/plain": [
       "(480, 30)"
      ]
     },
     "execution_count": 3,
     "metadata": {},
     "output_type": "execute_result"
    }
   ],
   "source": [
    "data = data[lambda x: x.Salary > 0]\n",
    "data = data.reset_index(drop=True)\n",
    "\n",
    "data.shape"
   ]
  },
  {
   "cell_type": "markdown",
   "metadata": {},
   "source": [
    "- ### Merging same player's records\n",
    "    - Numerical variables -> sum\n",
    "    - Ratio variables -> average"
   ]
  },
  {
   "cell_type": "code",
   "execution_count": 4,
   "metadata": {},
   "outputs": [],
   "source": [
    "def g_sum(index):\n",
    "    name = data.iloc[index]['Name']\n",
    "    \n",
    "    sum = data.iloc[index]['G']\n",
    "    \n",
    "    for i in range(index+1, len(data)):\n",
    "        if data.iloc[i]['Name'] == name:\n",
    "            sum += data.iloc[i]['G']\n",
    "            \n",
    "    return sum"
   ]
  },
  {
   "cell_type": "code",
   "execution_count": 5,
   "metadata": {},
   "outputs": [],
   "source": [
    "i = 0\n",
    "while i < len(data):\n",
    "    name = data.loc[i,'Name']\n",
    "    gamesum = g_sum(i)\n",
    "    \n",
    "    for j in range(17, 22):\n",
    "        data.iloc[i,j] = data.loc[i,'G'] * data.iloc[i,j]\n",
    "    \n",
    "    k = i + 1\n",
    "    while k < len(data):\n",
    "        if data.loc[k,'Name'] == name:\n",
    "            \n",
    "            if data.loc[k,'Tm'] not in data.loc[i,'Tm']:\n",
    "                data.loc[i,'Tm'] = data.loc[i,'Tm'] + \"/\" + data.loc[k,'Tm']\n",
    "            if data.loc[k,'Lg'] not in data.loc[i,'Lg']:\n",
    "                data.loc[i,'Lg'] = data.loc[i,'Lg'] + \"/\" + data.loc[k,'Lg']\n",
    "            \n",
    "            for l in range(4, 17):\n",
    "                data.iloc[i,l] += data.iloc[k,l]\n",
    "                \n",
    "            for m in range(17, 22):\n",
    "                data.iloc[i,m] += data.loc[k,'G'] * data.iloc[k,m]\n",
    "            \n",
    "            for n in range(22, 28):\n",
    "                data.iloc[i,n] += data.iloc[k,n]\n",
    "                \n",
    "            data.loc[i,'Salary'] += data.loc[k,'Salary']\n",
    "            \n",
    "            data = data.drop(data.index[k]).reset_index(drop=True)\n",
    "        \n",
    "        else:\n",
    "            k += 1\n",
    "            \n",
    "    for o in range(17, 22):\n",
    "        data.iloc[i,o] = data.iloc[i,o] / gamesum\n",
    "    \n",
    "    i += 1"
   ]
  },
  {
   "cell_type": "code",
   "execution_count": null,
   "metadata": {},
   "outputs": [],
   "source": [
    "data.to_csv(\"data/data_{}.csv\".format(year))"
   ]
  },
  {
   "cell_type": "markdown",
   "metadata": {},
   "source": [
    "- ### Assigning the data\n",
    "    - Set the target variable as latter year's salary\n",
    "    - Put the yearly data together"
   ]
  },
  {
   "cell_type": "code",
   "execution_count": null,
   "metadata": {},
   "outputs": [],
   "source": [
    "df = []\n",
    "for year in range(2014, 2019):\n",
    "    df.append(pd.read_csv(\"data/data_{}.csv\".format(year), index_col=0))\n",
    "\n",
    "data = []\n",
    "for i in range(4):\n",
    "    stat = df[i].iloc[:, :28]\n",
    "    salary = df[i+1][['Name', 'Salary']]\n",
    "    merge = pd.merge(data_2014, data_2015,\n",
    "                     how='inner',\n",
    "                     on='Name',\n",
    "                     left_index=False,\n",
    "                     right_index=False,\n",
    "                     sort=False,\n",
    "                     suffixes=('_x', '_y'),\n",
    "                     copy=True,\n",
    "                     indicator=False)\n",
    "    \n",
    "    data.append(merge)"
   ]
  },
  {
   "cell_type": "code",
   "execution_count": null,
   "metadata": {},
   "outputs": [],
   "source": [
    "data = pd.concat([df[0], df[1], df[2], df[3]], axis=0)\n",
    "data.to_csv(\"data/data_2014-2017.csv\")"
   ]
  },
  {
   "cell_type": "markdown",
   "metadata": {},
   "source": [
    "## 3. Modeling: Simple Linear Regression"
   ]
  },
  {
   "cell_type": "markdown",
   "metadata": {},
   "source": [
    "- ### Data selection"
   ]
  },
  {
   "cell_type": "code",
   "execution_count": 141,
   "metadata": {},
   "outputs": [],
   "source": [
    "X = data.drop(['Name', 'Tm', 'Lg'], axis = 1)"
   ]
  },
  {
   "cell_type": "code",
   "execution_count": 142,
   "metadata": {},
   "outputs": [
    {
     "data": {
      "text/plain": [
       "Age       0.465436\n",
       "G         0.354674\n",
       "PA        0.452931\n",
       "AB        0.439048\n",
       "R         0.440628\n",
       "H         0.445492\n",
       "2B        0.423374\n",
       "3B        0.000239\n",
       "HR        0.400924\n",
       "RBI       0.515301\n",
       "SB        0.047223\n",
       "CS        0.042424\n",
       "BB        0.463434\n",
       "SO        0.289209\n",
       "BA        0.266855\n",
       "OBP       0.343086\n",
       "SLG       0.317593\n",
       "OPS       0.348505\n",
       "OPS+      0.360806\n",
       "TB        0.466357\n",
       "GDP       0.420886\n",
       "HBP       0.171389\n",
       "SH       -0.234500\n",
       "SF        0.418287\n",
       "IBB       0.406812\n",
       "Salary    1.000000\n",
       "dtype: float64"
      ]
     },
     "execution_count": 142,
     "metadata": {},
     "output_type": "execute_result"
    }
   ],
   "source": [
    "X.corrwith(X['Salary'])"
   ]
  },
  {
   "cell_type": "code",
   "execution_count": 127,
   "metadata": {},
   "outputs": [],
   "source": [
    "X = X.iloc[:, 0:25]\n",
    "y = data['Salary']"
   ]
  },
  {
   "cell_type": "markdown",
   "metadata": {},
   "source": [
    "- ### Training model"
   ]
  },
  {
   "cell_type": "code",
   "execution_count": 128,
   "metadata": {},
   "outputs": [
    {
     "name": "stdout",
     "output_type": "stream",
     "text": [
      "a value =  -24041437.087528132\n",
      "b value =  [ 9.33182882e+05 -1.13332999e+05  7.93558496e+04 -6.52241768e+04\n",
      "  6.15031845e+04  1.12828042e+05 -1.02699594e+05 -3.63309654e+04\n",
      " -1.71453058e+03  3.47201731e+04  1.91890137e+03  6.43935386e+04\n",
      " -4.79444935e+04  4.72707743e+04 -2.63770606e+07  1.23342771e+09\n",
      "  1.24020782e+09 -1.22756712e+09  1.79033009e+04 -6.76771020e+04\n",
      "  1.45568311e+05 -2.79007608e+05 -2.41162831e+05  2.40554333e+04\n",
      "  1.51375454e+05]\n"
     ]
    }
   ],
   "source": [
    "linear_regression = linear_model.LinearRegression()\n",
    "linear_regression.fit(X = pd.DataFrame(X), y = y)\n",
    "prediction = linear_regression.predict(X = pd.DataFrame(X))\n",
    "\n",
    "print('a value = ', linear_regression.intercept_)\n",
    "print('b value = ', linear_regression.coef_)"
   ]
  },
  {
   "cell_type": "code",
   "execution_count": 129,
   "metadata": {},
   "outputs": [
    {
     "data": {
      "text/plain": [
       "count    2.900000e+02\n",
       "mean    -1.545610e-07\n",
       "std      5.048013e+06\n",
       "min     -1.185500e+07\n",
       "25%     -3.201871e+06\n",
       "50%     -7.120258e+05\n",
       "75%      1.958143e+06\n",
       "max      3.346000e+07\n",
       "Name: Salary, dtype: float64"
      ]
     },
     "execution_count": 129,
     "metadata": {},
     "output_type": "execute_result"
    }
   ],
   "source": [
    "residuals = y-prediction\n",
    "residuals.describe()"
   ]
  },
  {
   "cell_type": "markdown",
   "metadata": {},
   "source": [
    "- ### Scoring"
   ]
  },
  {
   "cell_type": "code",
   "execution_count": 130,
   "metadata": {},
   "outputs": [
    {
     "name": "stdout",
     "output_type": "stream",
     "text": [
      "R_squared =  0.4837907418897357\n"
     ]
    }
   ],
   "source": [
    "SSE = (residuals**2).sum()\n",
    "SST = ((y-y.mean())**2).sum()\n",
    "R_squared = 1 - (SSE/SST)\n",
    "print('R_squared = ', R_squared)"
   ]
  },
  {
   "cell_type": "code",
   "execution_count": 131,
   "metadata": {},
   "outputs": [],
   "source": [
    "from sklearn.metrics import mean_squared_error"
   ]
  },
  {
   "cell_type": "code",
   "execution_count": 132,
   "metadata": {},
   "outputs": [
    {
     "name": "stdout",
     "output_type": "stream",
     "text": [
      "score =  0.4837907418897357\n",
      "Mean_Squared_Error =  25394560336726.05\n",
      "RMSE =  5039301.57231397\n"
     ]
    }
   ],
   "source": [
    "print('score = ', linear_regression.score(X =pd.DataFrame(X), y=y))\n",
    "print('Mean_Squared_Error = ', mean_squared_error(prediction, y))\n",
    "print('RMSE = ', mean_squared_error(prediction, y)**0.5)"
   ]
  },
  {
   "cell_type": "markdown",
   "metadata": {},
   "source": [
    "\n",
    "### Conclusion from the simple linear regression\n",
    "- Bad score: 0.48 R-squared\n",
    "- It seems that strong correlation between variables affected to the score\n",
    "- Need to exclude the multicollinearity\n",
    "---"
   ]
  },
  {
   "cell_type": "markdown",
   "metadata": {},
   "source": [
    "## 4. Neural Network"
   ]
  },
  {
   "cell_type": "code",
   "execution_count": 6,
   "metadata": {
    "scrolled": true
   },
   "outputs": [
    {
     "data": {
      "text/html": [
       "<div>\n",
       "<style scoped>\n",
       "    .dataframe tbody tr th:only-of-type {\n",
       "        vertical-align: middle;\n",
       "    }\n",
       "\n",
       "    .dataframe tbody tr th {\n",
       "        vertical-align: top;\n",
       "    }\n",
       "\n",
       "    .dataframe thead th {\n",
       "        text-align: right;\n",
       "    }\n",
       "</style>\n",
       "<table border=\"1\" class=\"dataframe\">\n",
       "  <thead>\n",
       "    <tr style=\"text-align: right;\">\n",
       "      <th></th>\n",
       "      <th>Age</th>\n",
       "      <th>Lg</th>\n",
       "      <th>G</th>\n",
       "      <th>PA</th>\n",
       "      <th>AB</th>\n",
       "      <th>R</th>\n",
       "      <th>H</th>\n",
       "      <th>2B</th>\n",
       "      <th>3B</th>\n",
       "      <th>HR</th>\n",
       "      <th>...</th>\n",
       "      <th>HBP</th>\n",
       "      <th>SH</th>\n",
       "      <th>SF</th>\n",
       "      <th>IBB</th>\n",
       "      <th>Career</th>\n",
       "      <th>Weight</th>\n",
       "      <th>Height</th>\n",
       "      <th>AllStar</th>\n",
       "      <th>Awards</th>\n",
       "      <th>Salary</th>\n",
       "    </tr>\n",
       "  </thead>\n",
       "  <tbody>\n",
       "    <tr>\n",
       "      <th>0</th>\n",
       "      <td>27</td>\n",
       "      <td>0</td>\n",
       "      <td>145</td>\n",
       "      <td>622</td>\n",
       "      <td>556</td>\n",
       "      <td>80</td>\n",
       "      <td>176</td>\n",
       "      <td>35</td>\n",
       "      <td>2</td>\n",
       "      <td>36</td>\n",
       "      <td>...</td>\n",
       "      <td>11</td>\n",
       "      <td>0</td>\n",
       "      <td>4</td>\n",
       "      <td>15</td>\n",
       "      <td>1</td>\n",
       "      <td>255</td>\n",
       "      <td>75</td>\n",
       "      <td>2</td>\n",
       "      <td>2</td>\n",
       "      <td>8666000</td>\n",
       "    </tr>\n",
       "    <tr>\n",
       "      <th>1</th>\n",
       "      <td>29</td>\n",
       "      <td>1</td>\n",
       "      <td>3</td>\n",
       "      <td>4</td>\n",
       "      <td>4</td>\n",
       "      <td>0</td>\n",
       "      <td>0</td>\n",
       "      <td>0</td>\n",
       "      <td>0</td>\n",
       "      <td>0</td>\n",
       "      <td>...</td>\n",
       "      <td>0</td>\n",
       "      <td>0</td>\n",
       "      <td>0</td>\n",
       "      <td>0</td>\n",
       "      <td>8</td>\n",
       "      <td>200</td>\n",
       "      <td>70</td>\n",
       "      <td>0</td>\n",
       "      <td>0</td>\n",
       "      <td>0</td>\n",
       "    </tr>\n",
       "    <tr>\n",
       "      <th>2</th>\n",
       "      <td>26</td>\n",
       "      <td>0</td>\n",
       "      <td>143</td>\n",
       "      <td>542</td>\n",
       "      <td>502</td>\n",
       "      <td>64</td>\n",
       "      <td>123</td>\n",
       "      <td>27</td>\n",
       "      <td>4</td>\n",
       "      <td>14</td>\n",
       "      <td>...</td>\n",
       "      <td>3</td>\n",
       "      <td>3</td>\n",
       "      <td>2</td>\n",
       "      <td>1</td>\n",
       "      <td>4</td>\n",
       "      <td>205</td>\n",
       "      <td>73</td>\n",
       "      <td>0</td>\n",
       "      <td>0</td>\n",
       "      <td>2600000</td>\n",
       "    </tr>\n",
       "    <tr>\n",
       "      <th>3</th>\n",
       "      <td>25</td>\n",
       "      <td>1</td>\n",
       "      <td>142</td>\n",
       "      <td>563</td>\n",
       "      <td>527</td>\n",
       "      <td>55</td>\n",
       "      <td>152</td>\n",
       "      <td>34</td>\n",
       "      <td>5</td>\n",
       "      <td>15</td>\n",
       "      <td>...</td>\n",
       "      <td>3</td>\n",
       "      <td>0</td>\n",
       "      <td>7</td>\n",
       "      <td>5</td>\n",
       "      <td>3</td>\n",
       "      <td>245</td>\n",
       "      <td>75</td>\n",
       "      <td>0</td>\n",
       "      <td>0</td>\n",
       "      <td>534000</td>\n",
       "    </tr>\n",
       "    <tr>\n",
       "      <th>4</th>\n",
       "      <td>29</td>\n",
       "      <td>0</td>\n",
       "      <td>44</td>\n",
       "      <td>114</td>\n",
       "      <td>101</td>\n",
       "      <td>13</td>\n",
       "      <td>17</td>\n",
       "      <td>3</td>\n",
       "      <td>0</td>\n",
       "      <td>1</td>\n",
       "      <td>...</td>\n",
       "      <td>0</td>\n",
       "      <td>1</td>\n",
       "      <td>2</td>\n",
       "      <td>0</td>\n",
       "      <td>2</td>\n",
       "      <td>210</td>\n",
       "      <td>74</td>\n",
       "      <td>0</td>\n",
       "      <td>0</td>\n",
       "      <td>0</td>\n",
       "    </tr>\n",
       "  </tbody>\n",
       "</table>\n",
       "<p>5 rows × 32 columns</p>\n",
       "</div>"
      ],
      "text/plain": [
       "   Age  Lg    G   PA   AB   R    H  2B  3B  HR   ...     HBP  SH  SF  IBB  \\\n",
       "0   27   0  145  622  556  80  176  35   2  36   ...      11   0   4   15   \n",
       "1   29   1    3    4    4   0    0   0   0   0   ...       0   0   0    0   \n",
       "2   26   0  143  542  502  64  123  27   4  14   ...       3   3   2    1   \n",
       "3   25   1  142  563  527  55  152  34   5  15   ...       3   0   7    5   \n",
       "4   29   0   44  114  101  13   17   3   0   1   ...       0   1   2    0   \n",
       "\n",
       "   Career  Weight  Height  AllStar  Awards   Salary  \n",
       "0       1     255      75        2       2  8666000  \n",
       "1       8     200      70        0       0        0  \n",
       "2       4     205      73        0       0  2600000  \n",
       "3       3     245      75        0       0   534000  \n",
       "4       2     210      74        0       0        0  \n",
       "\n",
       "[5 rows x 32 columns]"
      ]
     },
     "execution_count": 6,
     "metadata": {},
     "output_type": "execute_result"
    }
   ],
   "source": [
    "data = pd.read_csv(\"MLB_2014_2017.csv\")\n",
    "data = data.drop(['Name', 'Id', 'Tm'], axis = 1)\n",
    "data['Lg'] = data['Lg'].replace(['NL','MLB/NL','MLB/AL/NL'], 1)\n",
    "data['Lg'] = data['Lg'].replace(['AL','MLB/AL','MLB/NL/AL'] ,0)\n",
    "data.head()"
   ]
  },
  {
   "cell_type": "code",
   "execution_count": 7,
   "metadata": {},
   "outputs": [
    {
     "name": "stdout",
     "output_type": "stream",
     "text": [
      "nCar: 1042 nVar: 32\n"
     ]
    }
   ],
   "source": [
    "data = data.dropna()\n",
    "data = data[data['Salary'] != 0]\n",
    "nCar = data.shape[0]\n",
    "nVar = data.shape[1]\n",
    "print('nCar: %d' % nCar, 'nVar: %d' % nVar )"
   ]
  },
  {
   "cell_type": "code",
   "execution_count": 10,
   "metadata": {},
   "outputs": [],
   "source": [
    "data = data.astype(np.float32)\n",
    "data['Salary'] = data['Salary']/10000"
   ]
  },
  {
   "cell_type": "code",
   "execution_count": 12,
   "metadata": {},
   "outputs": [],
   "source": [
    "x_data = data.drop(['Salary'], axis=1)\n",
    "y_data = data['Salary']"
   ]
  },
  {
   "cell_type": "code",
   "execution_count": 18,
   "metadata": {
    "scrolled": true
   },
   "outputs": [
    {
     "data": {
      "text/html": [
       "<div>\n",
       "<style scoped>\n",
       "    .dataframe tbody tr th:only-of-type {\n",
       "        vertical-align: middle;\n",
       "    }\n",
       "\n",
       "    .dataframe tbody tr th {\n",
       "        vertical-align: top;\n",
       "    }\n",
       "\n",
       "    .dataframe thead th {\n",
       "        text-align: right;\n",
       "    }\n",
       "</style>\n",
       "<table border=\"1\" class=\"dataframe\">\n",
       "  <thead>\n",
       "    <tr style=\"text-align: right;\">\n",
       "      <th></th>\n",
       "      <th>Age</th>\n",
       "      <th>Lg</th>\n",
       "      <th>G</th>\n",
       "      <th>PA</th>\n",
       "      <th>AB</th>\n",
       "      <th>R</th>\n",
       "      <th>H</th>\n",
       "      <th>2B</th>\n",
       "      <th>3B</th>\n",
       "      <th>HR</th>\n",
       "      <th>...</th>\n",
       "      <th>GDP</th>\n",
       "      <th>HBP</th>\n",
       "      <th>SH</th>\n",
       "      <th>SF</th>\n",
       "      <th>IBB</th>\n",
       "      <th>Career</th>\n",
       "      <th>Weight</th>\n",
       "      <th>Height</th>\n",
       "      <th>AllStar</th>\n",
       "      <th>Awards</th>\n",
       "    </tr>\n",
       "  </thead>\n",
       "  <tbody>\n",
       "    <tr>\n",
       "      <th>count</th>\n",
       "      <td>1042.00000</td>\n",
       "      <td>1042.000000</td>\n",
       "      <td>1042.000000</td>\n",
       "      <td>1042.000000</td>\n",
       "      <td>1042.000000</td>\n",
       "      <td>1042.000000</td>\n",
       "      <td>1042.000000</td>\n",
       "      <td>1042.000000</td>\n",
       "      <td>1042.000000</td>\n",
       "      <td>1042.000000</td>\n",
       "      <td>...</td>\n",
       "      <td>1042.000000</td>\n",
       "      <td>1042.000000</td>\n",
       "      <td>1042.000000</td>\n",
       "      <td>1042.000000</td>\n",
       "      <td>1042.000000</td>\n",
       "      <td>1042.000000</td>\n",
       "      <td>1042.000000</td>\n",
       "      <td>1042.000000</td>\n",
       "      <td>1042.000000</td>\n",
       "      <td>1042.000000</td>\n",
       "    </tr>\n",
       "    <tr>\n",
       "      <th>mean</th>\n",
       "      <td>28.37236</td>\n",
       "      <td>0.495202</td>\n",
       "      <td>116.201538</td>\n",
       "      <td>446.028778</td>\n",
       "      <td>399.682343</td>\n",
       "      <td>53.892513</td>\n",
       "      <td>105.854126</td>\n",
       "      <td>20.860844</td>\n",
       "      <td>2.137236</td>\n",
       "      <td>13.571017</td>\n",
       "      <td>...</td>\n",
       "      <td>9.089252</td>\n",
       "      <td>4.274472</td>\n",
       "      <td>1.304223</td>\n",
       "      <td>3.113244</td>\n",
       "      <td>2.738964</td>\n",
       "      <td>6.441459</td>\n",
       "      <td>211.222656</td>\n",
       "      <td>73.016312</td>\n",
       "      <td>1.380038</td>\n",
       "      <td>1.590211</td>\n",
       "    </tr>\n",
       "    <tr>\n",
       "      <th>std</th>\n",
       "      <td>3.59201</td>\n",
       "      <td>0.500217</td>\n",
       "      <td>38.349197</td>\n",
       "      <td>184.436234</td>\n",
       "      <td>165.101105</td>\n",
       "      <td>27.311340</td>\n",
       "      <td>49.503609</td>\n",
       "      <td>10.759559</td>\n",
       "      <td>2.332041</td>\n",
       "      <td>10.275518</td>\n",
       "      <td>...</td>\n",
       "      <td>5.779882</td>\n",
       "      <td>3.782449</td>\n",
       "      <td>2.080643</td>\n",
       "      <td>2.355250</td>\n",
       "      <td>3.614604</td>\n",
       "      <td>3.594070</td>\n",
       "      <td>19.700665</td>\n",
       "      <td>2.176797</td>\n",
       "      <td>2.123360</td>\n",
       "      <td>3.239994</td>\n",
       "    </tr>\n",
       "    <tr>\n",
       "      <th>min</th>\n",
       "      <td>21.00000</td>\n",
       "      <td>0.000000</td>\n",
       "      <td>1.000000</td>\n",
       "      <td>2.000000</td>\n",
       "      <td>2.000000</td>\n",
       "      <td>0.000000</td>\n",
       "      <td>0.000000</td>\n",
       "      <td>0.000000</td>\n",
       "      <td>0.000000</td>\n",
       "      <td>0.000000</td>\n",
       "      <td>...</td>\n",
       "      <td>0.000000</td>\n",
       "      <td>0.000000</td>\n",
       "      <td>0.000000</td>\n",
       "      <td>0.000000</td>\n",
       "      <td>0.000000</td>\n",
       "      <td>1.000000</td>\n",
       "      <td>151.000000</td>\n",
       "      <td>66.000000</td>\n",
       "      <td>0.000000</td>\n",
       "      <td>0.000000</td>\n",
       "    </tr>\n",
       "    <tr>\n",
       "      <th>25%</th>\n",
       "      <td>26.00000</td>\n",
       "      <td>0.000000</td>\n",
       "      <td>95.000000</td>\n",
       "      <td>309.000000</td>\n",
       "      <td>273.000000</td>\n",
       "      <td>34.000000</td>\n",
       "      <td>68.000000</td>\n",
       "      <td>13.000000</td>\n",
       "      <td>0.000000</td>\n",
       "      <td>5.000000</td>\n",
       "      <td>...</td>\n",
       "      <td>5.000000</td>\n",
       "      <td>2.000000</td>\n",
       "      <td>0.000000</td>\n",
       "      <td>1.000000</td>\n",
       "      <td>0.000000</td>\n",
       "      <td>4.000000</td>\n",
       "      <td>200.000000</td>\n",
       "      <td>71.000000</td>\n",
       "      <td>0.000000</td>\n",
       "      <td>0.000000</td>\n",
       "    </tr>\n",
       "    <tr>\n",
       "      <th>50%</th>\n",
       "      <td>28.00000</td>\n",
       "      <td>0.000000</td>\n",
       "      <td>127.000000</td>\n",
       "      <td>476.000000</td>\n",
       "      <td>423.000000</td>\n",
       "      <td>54.000000</td>\n",
       "      <td>110.000000</td>\n",
       "      <td>21.000000</td>\n",
       "      <td>1.000000</td>\n",
       "      <td>12.000000</td>\n",
       "      <td>...</td>\n",
       "      <td>8.000000</td>\n",
       "      <td>3.000000</td>\n",
       "      <td>0.000000</td>\n",
       "      <td>3.000000</td>\n",
       "      <td>1.000000</td>\n",
       "      <td>6.000000</td>\n",
       "      <td>210.000000</td>\n",
       "      <td>73.000000</td>\n",
       "      <td>0.000000</td>\n",
       "      <td>0.000000</td>\n",
       "    </tr>\n",
       "    <tr>\n",
       "      <th>75%</th>\n",
       "      <td>31.00000</td>\n",
       "      <td>1.000000</td>\n",
       "      <td>148.000000</td>\n",
       "      <td>606.000000</td>\n",
       "      <td>544.750000</td>\n",
       "      <td>73.000000</td>\n",
       "      <td>146.000000</td>\n",
       "      <td>29.000000</td>\n",
       "      <td>3.000000</td>\n",
       "      <td>20.000000</td>\n",
       "      <td>...</td>\n",
       "      <td>13.000000</td>\n",
       "      <td>6.000000</td>\n",
       "      <td>2.000000</td>\n",
       "      <td>4.000000</td>\n",
       "      <td>4.000000</td>\n",
       "      <td>9.000000</td>\n",
       "      <td>222.500000</td>\n",
       "      <td>75.000000</td>\n",
       "      <td>2.000000</td>\n",
       "      <td>2.000000</td>\n",
       "    </tr>\n",
       "    <tr>\n",
       "      <th>max</th>\n",
       "      <td>43.00000</td>\n",
       "      <td>1.000000</td>\n",
       "      <td>162.000000</td>\n",
       "      <td>744.000000</td>\n",
       "      <td>684.000000</td>\n",
       "      <td>137.000000</td>\n",
       "      <td>225.000000</td>\n",
       "      <td>56.000000</td>\n",
       "      <td>14.000000</td>\n",
       "      <td>59.000000</td>\n",
       "      <td>...</td>\n",
       "      <td>31.000000</td>\n",
       "      <td>30.000000</td>\n",
       "      <td>13.000000</td>\n",
       "      <td>15.000000</td>\n",
       "      <td>29.000000</td>\n",
       "      <td>22.000000</td>\n",
       "      <td>275.000000</td>\n",
       "      <td>78.000000</td>\n",
       "      <td>14.000000</td>\n",
       "      <td>31.000000</td>\n",
       "    </tr>\n",
       "  </tbody>\n",
       "</table>\n",
       "<p>8 rows × 31 columns</p>\n",
       "</div>"
      ],
      "text/plain": [
       "              Age           Lg            G           PA           AB  \\\n",
       "count  1042.00000  1042.000000  1042.000000  1042.000000  1042.000000   \n",
       "mean     28.37236     0.495202   116.201538   446.028778   399.682343   \n",
       "std       3.59201     0.500217    38.349197   184.436234   165.101105   \n",
       "min      21.00000     0.000000     1.000000     2.000000     2.000000   \n",
       "25%      26.00000     0.000000    95.000000   309.000000   273.000000   \n",
       "50%      28.00000     0.000000   127.000000   476.000000   423.000000   \n",
       "75%      31.00000     1.000000   148.000000   606.000000   544.750000   \n",
       "max      43.00000     1.000000   162.000000   744.000000   684.000000   \n",
       "\n",
       "                 R            H           2B           3B           HR  \\\n",
       "count  1042.000000  1042.000000  1042.000000  1042.000000  1042.000000   \n",
       "mean     53.892513   105.854126    20.860844     2.137236    13.571017   \n",
       "std      27.311340    49.503609    10.759559     2.332041    10.275518   \n",
       "min       0.000000     0.000000     0.000000     0.000000     0.000000   \n",
       "25%      34.000000    68.000000    13.000000     0.000000     5.000000   \n",
       "50%      54.000000   110.000000    21.000000     1.000000    12.000000   \n",
       "75%      73.000000   146.000000    29.000000     3.000000    20.000000   \n",
       "max     137.000000   225.000000    56.000000    14.000000    59.000000   \n",
       "\n",
       "          ...               GDP          HBP           SH           SF  \\\n",
       "count     ...       1042.000000  1042.000000  1042.000000  1042.000000   \n",
       "mean      ...          9.089252     4.274472     1.304223     3.113244   \n",
       "std       ...          5.779882     3.782449     2.080643     2.355250   \n",
       "min       ...          0.000000     0.000000     0.000000     0.000000   \n",
       "25%       ...          5.000000     2.000000     0.000000     1.000000   \n",
       "50%       ...          8.000000     3.000000     0.000000     3.000000   \n",
       "75%       ...         13.000000     6.000000     2.000000     4.000000   \n",
       "max       ...         31.000000    30.000000    13.000000    15.000000   \n",
       "\n",
       "               IBB       Career       Weight       Height      AllStar  \\\n",
       "count  1042.000000  1042.000000  1042.000000  1042.000000  1042.000000   \n",
       "mean      2.738964     6.441459   211.222656    73.016312     1.380038   \n",
       "std       3.614604     3.594070    19.700665     2.176797     2.123360   \n",
       "min       0.000000     1.000000   151.000000    66.000000     0.000000   \n",
       "25%       0.000000     4.000000   200.000000    71.000000     0.000000   \n",
       "50%       1.000000     6.000000   210.000000    73.000000     0.000000   \n",
       "75%       4.000000     9.000000   222.500000    75.000000     2.000000   \n",
       "max      29.000000    22.000000   275.000000    78.000000    14.000000   \n",
       "\n",
       "            Awards  \n",
       "count  1042.000000  \n",
       "mean      1.590211  \n",
       "std       3.239994  \n",
       "min       0.000000  \n",
       "25%       0.000000  \n",
       "50%       0.000000  \n",
       "75%       2.000000  \n",
       "max      31.000000  \n",
       "\n",
       "[8 rows x 31 columns]"
      ]
     },
     "execution_count": 18,
     "metadata": {},
     "output_type": "execute_result"
    }
   ],
   "source": [
    "stats = x_data.describe()\n",
    "stats"
   ]
  },
  {
   "cell_type": "code",
   "execution_count": 19,
   "metadata": {},
   "outputs": [],
   "source": [
    "# Data normalize\n",
    "def norm(dataset):\n",
    "    stats = dataset.describe()\n",
    "    normed_dataset = (dataset - stats.mean())/(stats.std())\n",
    "    return normed_dataset"
   ]
  },
  {
   "cell_type": "code",
   "execution_count": 21,
   "metadata": {},
   "outputs": [],
   "source": [
    "normed_x_data = norm(x_data)\n",
    "# normed_y_data = norm(y_data)"
   ]
  },
  {
   "cell_type": "markdown",
   "metadata": {},
   "source": [
    "- ### Adam optimizer"
   ]
  },
  {
   "cell_type": "code",
   "execution_count": 179,
   "metadata": {},
   "outputs": [],
   "source": [
    "model = models.Sequential()\n",
    "model.add(layers.Dense(62, activation='relu', input_shape=(31,)))\n",
    "model.add(layers.Dropout(0.2))\n",
    "model.add(layers.Dense(124, activation='relu'))\n",
    "model.add(layers.Dropout(0.2))\n",
    "model.add(layers.Dense(248, activation='relu'))\n",
    "model.add(layers.Dropout(0.2))\n",
    "model.add(layers.Dense(496, activation='relu'))\n",
    "\n",
    "model.add(layers.Dense(1))"
   ]
  },
  {
   "cell_type": "code",
   "execution_count": 174,
   "metadata": {},
   "outputs": [],
   "source": [
    "model.compile(loss='mse',optimizer='adam', metrics=['mae', 'mse'])\n",
    "history = model.fit(normed_x_data, y_data, epochs=50, batch_size=60, validation_split=0.2)"
   ]
  },
  {
   "cell_type": "code",
   "execution_count": 181,
   "metadata": {},
   "outputs": [
    {
     "data": {
      "image/png": "[encoded data removed]",
      "text/plain": [
       "<Figure size 576x864 with 2 Axes>"
      ]
     },
     "metadata": {},
     "output_type": "display_data"
    }
   ],
   "source": [
    "hist = pd.DataFrame(history.history)\n",
    "hist['epoch'] = history.epoch\n",
    "\n",
    "plt.figure(figsize=(8,12))\n",
    "\n",
    "plt.subplot(2,1,1)\n",
    "plt.xlabel('Epoch')\n",
    "plt.ylabel('Mean Abs Error [MPG]')\n",
    "plt.plot(hist['epoch'], hist['mean_absolute_error'],\n",
    "       label='Train Error')\n",
    "plt.plot(hist['epoch'], hist['val_mean_absolute_error'],\n",
    "       label = 'Val Error')\n",
    "# plt.ylim([0,1])\n",
    "plt.legend()\n",
    "\n",
    "plt.subplot(2,1,2)\n",
    "plt.xlabel('Epoch')\n",
    "plt.ylabel('Mean Square Error [$MPG^2$]')\n",
    "plt.plot(hist['epoch'], hist['mean_squared_error'],\n",
    "       label='Train Error')\n",
    "plt.plot(hist['epoch'], hist['val_mean_squared_error'],\n",
    "       label = 'Val Error')\n",
    "# plt.ylim([0,1])\n",
    "plt.legend()\n",
    "plt.show()"
   ]
  },
  {
   "cell_type": "code",
   "execution_count": 182,
   "metadata": {},
   "outputs": [],
   "source": [
    "prediction_data = model.predict(normed_x_data)"
   ]
  },
  {
   "cell_type": "code",
   "execution_count": 184,
   "metadata": {},
   "outputs": [],
   "source": [
    "p_data = pd.DataFrame(prediction_data)"
   ]
  },
  {
   "cell_type": "code",
   "execution_count": 185,
   "metadata": {},
   "outputs": [],
   "source": [
    "p_data.to_csv(\"data_nn.csv\")"
   ]
  },
  {
   "cell_type": "markdown",
   "metadata": {},
   "source": [
    "### Conclusion from the Nerual network\n",
    "- Adam optimizer showed best performance\n",
    "- Cannot check effects of each variable\n",
    "---"
   ]
  },
  {
   "cell_type": "markdown",
   "metadata": {},
   "source": [
    "## 5. Modeling: Regression with PCA"
   ]
  },
  {
   "cell_type": "code",
   "execution_count": 2,
   "metadata": {},
   "outputs": [],
   "source": [
    "data = pd.read_csv(\"data/MLB/MLB_2014_2017.csv\")"
   ]
  },
  {
   "cell_type": "markdown",
   "metadata": {},
   "source": [
    "- ### Data selection"
   ]
  },
  {
   "cell_type": "code",
   "execution_count": 3,
   "metadata": {},
   "outputs": [
    {
     "data": {
      "text/plain": [
       "(1020, 35)"
      ]
     },
     "execution_count": 3,
     "metadata": {},
     "output_type": "execute_result"
    }
   ],
   "source": [
    "# Remove data which have less game than 20 or don't have salary data\n",
    "data = data[lambda x: x.G >= 20]\n",
    "data = data[lambda x: x.Salary > 0]\n",
    "data = data.reset_index(drop=True)\n",
    "data.shape"
   ]
  },
  {
   "cell_type": "code",
   "execution_count": 4,
   "metadata": {},
   "outputs": [
    {
     "data": {
      "text/plain": [
       "(1020, 29)"
      ]
     },
     "execution_count": 4,
     "metadata": {},
     "output_type": "execute_result"
    }
   ],
   "source": [
    "# Remove nominal, duplicated data\n",
    "data = data.drop([\"Name\", \"Id\", \"Tm\", \"Lg\", \"OPS\", \"OPS+\"], axis=1)\n",
    "data.shape"
   ]
  },
  {
   "cell_type": "markdown",
   "metadata": {},
   "source": [
    "- ### Scaling"
   ]
  },
  {
   "cell_type": "code",
   "execution_count": 5,
   "metadata": {},
   "outputs": [
    {
     "data": {
      "text/html": [
       "<div>\n",
       "<style scoped>\n",
       "    .dataframe tbody tr th:only-of-type {\n",
       "        vertical-align: middle;\n",
       "    }\n",
       "\n",
       "    .dataframe tbody tr th {\n",
       "        vertical-align: top;\n",
       "    }\n",
       "\n",
       "    .dataframe thead th {\n",
       "        text-align: right;\n",
       "    }\n",
       "</style>\n",
       "<table border=\"1\" class=\"dataframe\">\n",
       "  <thead>\n",
       "    <tr style=\"text-align: right;\">\n",
       "      <th></th>\n",
       "      <th>0</th>\n",
       "      <th>1</th>\n",
       "      <th>2</th>\n",
       "      <th>3</th>\n",
       "      <th>4</th>\n",
       "      <th>5</th>\n",
       "      <th>6</th>\n",
       "      <th>7</th>\n",
       "      <th>8</th>\n",
       "      <th>9</th>\n",
       "      <th>...</th>\n",
       "      <th>19</th>\n",
       "      <th>20</th>\n",
       "      <th>21</th>\n",
       "      <th>22</th>\n",
       "      <th>23</th>\n",
       "      <th>24</th>\n",
       "      <th>25</th>\n",
       "      <th>26</th>\n",
       "      <th>27</th>\n",
       "      <th>28</th>\n",
       "    </tr>\n",
       "  </thead>\n",
       "  <tbody>\n",
       "    <tr>\n",
       "      <td>0</td>\n",
       "      <td>0.272727</td>\n",
       "      <td>0.880282</td>\n",
       "      <td>0.827440</td>\n",
       "      <td>0.803681</td>\n",
       "      <td>0.577778</td>\n",
       "      <td>0.777273</td>\n",
       "      <td>0.625000</td>\n",
       "      <td>0.142857</td>\n",
       "      <td>0.610169</td>\n",
       "      <td>0.804511</td>\n",
       "      <td>...</td>\n",
       "      <td>0.366667</td>\n",
       "      <td>0.000000</td>\n",
       "      <td>0.266667</td>\n",
       "      <td>0.517241</td>\n",
       "      <td>0.000000</td>\n",
       "      <td>0.838710</td>\n",
       "      <td>0.750000</td>\n",
       "      <td>0.142857</td>\n",
       "      <td>0.064516</td>\n",
       "      <td>0.286488</td>\n",
       "    </tr>\n",
       "    <tr>\n",
       "      <td>1</td>\n",
       "      <td>0.227273</td>\n",
       "      <td>0.866197</td>\n",
       "      <td>0.714286</td>\n",
       "      <td>0.720859</td>\n",
       "      <td>0.459259</td>\n",
       "      <td>0.536364</td>\n",
       "      <td>0.482143</td>\n",
       "      <td>0.285714</td>\n",
       "      <td>0.237288</td>\n",
       "      <td>0.488722</td>\n",
       "      <td>...</td>\n",
       "      <td>0.100000</td>\n",
       "      <td>0.230769</td>\n",
       "      <td>0.133333</td>\n",
       "      <td>0.034483</td>\n",
       "      <td>0.142857</td>\n",
       "      <td>0.435484</td>\n",
       "      <td>0.583333</td>\n",
       "      <td>0.000000</td>\n",
       "      <td>0.000000</td>\n",
       "      <td>0.083612</td>\n",
       "    </tr>\n",
       "    <tr>\n",
       "      <td>2</td>\n",
       "      <td>0.181818</td>\n",
       "      <td>0.859155</td>\n",
       "      <td>0.743989</td>\n",
       "      <td>0.759202</td>\n",
       "      <td>0.392593</td>\n",
       "      <td>0.668182</td>\n",
       "      <td>0.607143</td>\n",
       "      <td>0.357143</td>\n",
       "      <td>0.254237</td>\n",
       "      <td>0.511278</td>\n",
       "      <td>...</td>\n",
       "      <td>0.100000</td>\n",
       "      <td>0.000000</td>\n",
       "      <td>0.466667</td>\n",
       "      <td>0.172414</td>\n",
       "      <td>0.095238</td>\n",
       "      <td>0.758065</td>\n",
       "      <td>0.750000</td>\n",
       "      <td>0.000000</td>\n",
       "      <td>0.000000</td>\n",
       "      <td>0.014515</td>\n",
       "    </tr>\n",
       "    <tr>\n",
       "      <td>3</td>\n",
       "      <td>0.272727</td>\n",
       "      <td>0.450704</td>\n",
       "      <td>0.355021</td>\n",
       "      <td>0.360429</td>\n",
       "      <td>0.185185</td>\n",
       "      <td>0.268182</td>\n",
       "      <td>0.339286</td>\n",
       "      <td>0.071429</td>\n",
       "      <td>0.118644</td>\n",
       "      <td>0.203008</td>\n",
       "      <td>...</td>\n",
       "      <td>0.033333</td>\n",
       "      <td>0.000000</td>\n",
       "      <td>0.200000</td>\n",
       "      <td>0.034483</td>\n",
       "      <td>0.190476</td>\n",
       "      <td>0.637097</td>\n",
       "      <td>0.583333</td>\n",
       "      <td>0.071429</td>\n",
       "      <td>0.000000</td>\n",
       "      <td>0.051839</td>\n",
       "    </tr>\n",
       "    <tr>\n",
       "      <td>4</td>\n",
       "      <td>0.136364</td>\n",
       "      <td>0.971831</td>\n",
       "      <td>0.947666</td>\n",
       "      <td>0.963190</td>\n",
       "      <td>0.614815</td>\n",
       "      <td>1.000000</td>\n",
       "      <td>0.839286</td>\n",
       "      <td>0.214286</td>\n",
       "      <td>0.118644</td>\n",
       "      <td>0.443609</td>\n",
       "      <td>...</td>\n",
       "      <td>0.166667</td>\n",
       "      <td>0.076923</td>\n",
       "      <td>0.333333</td>\n",
       "      <td>0.241379</td>\n",
       "      <td>0.142857</td>\n",
       "      <td>0.112903</td>\n",
       "      <td>0.000000</td>\n",
       "      <td>0.428571</td>\n",
       "      <td>0.322581</td>\n",
       "      <td>0.080268</td>\n",
       "    </tr>\n",
       "  </tbody>\n",
       "</table>\n",
       "<p>5 rows × 29 columns</p>\n",
       "</div>"
      ],
      "text/plain": [
       "         0         1         2         3         4         5         6   \\\n",
       "0  0.272727  0.880282  0.827440  0.803681  0.577778  0.777273  0.625000   \n",
       "1  0.227273  0.866197  0.714286  0.720859  0.459259  0.536364  0.482143   \n",
       "2  0.181818  0.859155  0.743989  0.759202  0.392593  0.668182  0.607143   \n",
       "3  0.272727  0.450704  0.355021  0.360429  0.185185  0.268182  0.339286   \n",
       "4  0.136364  0.971831  0.947666  0.963190  0.614815  1.000000  0.839286   \n",
       "\n",
       "         7         8         9   ...        19        20        21        22  \\\n",
       "0  0.142857  0.610169  0.804511  ...  0.366667  0.000000  0.266667  0.517241   \n",
       "1  0.285714  0.237288  0.488722  ...  0.100000  0.230769  0.133333  0.034483   \n",
       "2  0.357143  0.254237  0.511278  ...  0.100000  0.000000  0.466667  0.172414   \n",
       "3  0.071429  0.118644  0.203008  ...  0.033333  0.000000  0.200000  0.034483   \n",
       "4  0.214286  0.118644  0.443609  ...  0.166667  0.076923  0.333333  0.241379   \n",
       "\n",
       "         23        24        25        26        27        28  \n",
       "0  0.000000  0.838710  0.750000  0.142857  0.064516  0.286488  \n",
       "1  0.142857  0.435484  0.583333  0.000000  0.000000  0.083612  \n",
       "2  0.095238  0.758065  0.750000  0.000000  0.000000  0.014515  \n",
       "3  0.190476  0.637097  0.583333  0.071429  0.000000  0.051839  \n",
       "4  0.142857  0.112903  0.000000  0.428571  0.322581  0.080268  \n",
       "\n",
       "[5 rows x 29 columns]"
      ]
     },
     "execution_count": 5,
     "metadata": {},
     "output_type": "execute_result"
    }
   ],
   "source": [
    "x = data.values #returns a numpy array\n",
    "min_max_scaler = preprocessing.MinMaxScaler()\n",
    "x_scaled = min_max_scaler.fit_transform(x)\n",
    "df = pd.DataFrame(x_scaled)\n",
    "\n",
    "df.head()"
   ]
  },
  {
   "cell_type": "markdown",
   "metadata": {},
   "source": [
    "- ### Checking the principal components"
   ]
  },
  {
   "cell_type": "code",
   "execution_count": 6,
   "metadata": {},
   "outputs": [
    {
     "data": {
      "image/png": "[encoded data removed]",
      "text/plain": [
       "<Figure size 432x288 with 1 Axes>"
      ]
     },
     "metadata": {
      "needs_background": "light"
     },
     "output_type": "display_data"
    }
   ],
   "source": [
    "pca = PCA().fit(df)\n",
    "var = pca.explained_variance_\n",
    "y = np.cumsum(var)/np.sum(var)\n",
    "\n",
    "plt.bar(np.arange(1,len(var)+1), y, color='green', width=0.7)\n",
    "plt.show()"
   ]
  },
  {
   "cell_type": "code",
   "execution_count": 7,
   "metadata": {},
   "outputs": [
    {
     "name": "stdout",
     "output_type": "stream",
     "text": [
      "0.783341739617057\n"
     ]
    }
   ],
   "source": [
    "pca = PCA(n_components=10)\n",
    "pca.fit(df)\n",
    "v = pca.explained_variance_ratio_\n",
    "\n",
    "# Decided as 5-dimension eigenvector\n",
    "dim = 5\n",
    "Sum = 0\n",
    "for i in range(dim):\n",
    "    Sum += v[i]\n",
    "print(Sum)"
   ]
  },
  {
   "cell_type": "markdown",
   "metadata": {},
   "source": [
    "- ### Applying PCA"
   ]
  },
  {
   "cell_type": "code",
   "execution_count": 8,
   "metadata": {},
   "outputs": [
    {
     "name": "stdout",
     "output_type": "stream",
     "text": [
      "           pc1       pc2       pc3       pc4       pc5    Salary\n",
      "0    -0.975066 -0.174240 -0.510541  0.291856 -0.128752   8666000\n",
      "1    -0.186611  0.340633 -0.069707 -0.145272 -0.019925   2600000\n",
      "2    -0.418662  0.183585 -0.380362 -0.009898 -0.129333    534000\n",
      "3     0.652645 -0.066296 -0.107891  0.008863 -0.146525   1650000\n",
      "4    -0.946708  0.690321  0.681199  0.372845 -0.423704   2500000\n",
      "...        ...       ...       ...       ...       ...       ...\n",
      "1015  0.813351  0.125356  0.052906  0.048080 -0.129000   4000000\n",
      "1016  0.080607  0.030163  0.325451  0.332637  0.016021  20000000\n",
      "1017 -0.853610  0.230366 -0.199123  0.021730 -0.057781   2000000\n",
      "1018 -0.876377 -0.511585 -0.026131  0.063014 -0.080544  16500000\n",
      "1019 -0.028465 -0.201262  0.184315 -0.221512  0.052666   2975000\n",
      "\n",
      "[1020 rows x 6 columns]\n"
     ]
    }
   ],
   "source": [
    "pca = PCA(n_components=5)\n",
    "pca_x = pd.DataFrame(pca.fit_transform(df))\n",
    "pca_x.columns = ['pc1', 'pc2', 'pc3', 'pc4', 'pc5']\n",
    "salary = data['Salary']\n",
    "\n",
    "data_pca = pd.concat([pca_x, salary], axis = 1)\n",
    "data_pca.columns = ['pc1', 'pc2', 'pc3', 'pc4', 'pc5', 'Salary']\n",
    "print(data_pca)"
   ]
  },
  {
   "cell_type": "markdown",
   "metadata": {},
   "source": [
    "- ### Linear regression with the PCA"
   ]
  },
  {
   "cell_type": "code",
   "execution_count": 10,
   "metadata": {},
   "outputs": [
    {
     "name": "stdout",
     "output_type": "stream",
     "text": [
      "                            OLS Regression Results                            \n",
      "==============================================================================\n",
      "Dep. Variable:                 Salary   R-squared:                       0.754\n",
      "Model:                            OLS   Adj. R-squared:                  0.753\n",
      "Method:                 Least Squares   F-statistic:                     777.7\n",
      "Date:                Sat, 07 Dec 2019   Prob (F-statistic):          3.13e-307\n",
      "Time:                        15:57:50   Log-Likelihood:                -16751.\n",
      "No. Observations:                1020   AIC:                         3.351e+04\n",
      "Df Residuals:                    1015   BIC:                         3.354e+04\n",
      "Df Model:                           4                                         \n",
      "Covariance Type:            nonrobust                                         \n",
      "==============================================================================\n",
      "                 coef    std err          t      P>|t|      [0.025      0.975]\n",
      "------------------------------------------------------------------------------\n",
      "Intercept   6.192e+06   1.03e+05     60.148      0.000    5.99e+06    6.39e+06\n",
      "pc1        -4.502e+06   1.49e+05    -30.174      0.000    -4.8e+06   -4.21e+06\n",
      "pc2        -1.186e+07   3.18e+05    -37.333      0.000   -1.25e+07   -1.12e+07\n",
      "pc3         8.716e+06   4.06e+05     21.490      0.000    7.92e+06    9.51e+06\n",
      "pc5          1.06e+07   5.71e+05     18.568      0.000    9.48e+06    1.17e+07\n",
      "==============================================================================\n",
      "Omnibus:                       87.387   Durbin-Watson:                   2.028\n",
      "Prob(Omnibus):                  0.000   Jarque-Bera (JB):              486.940\n",
      "Skew:                           0.087   Prob(JB):                    1.83e-106\n",
      "Kurtosis:                       6.380   Cond. No.                         5.54\n",
      "==============================================================================\n",
      "\n",
      "Warnings:\n",
      "[1] Standard Errors assume that the covariance matrix of the errors is correctly specified.\n"
     ]
    }
   ],
   "source": [
    "model = sm.OLS.from_formula('Salary ~ pc1 + pc2 + pc3 + pc5', data=data_pca)\n",
    "fit = model.fit()\n",
    "print(fit.summary())"
   ]
  },
  {
   "cell_type": "code",
   "execution_count": 11,
   "metadata": {},
   "outputs": [],
   "source": [
    "data_pca.to_csv(\"data/data_pca.csv\")"
   ]
  },
  {
   "cell_type": "code",
   "execution_count": 13,
   "metadata": {},
   "outputs": [],
   "source": [
    "data_pca_f = pd.DataFrame(data_pca, \n",
    "                          columns = ['pc1', 'pc2', 'pc3', 'pc4', 'pc5','Salary'])\n",
    "data_pca_x = pd.DataFrame(data_pca_f, \n",
    "                          columns = ['pc1', 'pc2', 'pc3', 'pc4', 'pc5'])\n",
    "data_pca_y = pd.DataFrame(data_pca_f, \n",
    "                          columns = ['Salary'])\n"
   ]
  },
  {
   "cell_type": "markdown",
   "metadata": {},
   "source": [
    "- ### Scoring with cross-validation"
   ]
  },
  {
   "cell_type": "code",
   "execution_count": 14,
   "metadata": {},
   "outputs": [
    {
     "name": "stdout",
     "output_type": "stream",
     "text": [
      "[0.7035573  0.75764995 0.78363781 0.7537523  0.75779461]\n",
      "0.7512783941081012\n"
     ]
    }
   ],
   "source": [
    "cv = KFold(5, shuffle=True, random_state=0)\n",
    "model = LinearRegression()\n",
    "\n",
    "scores = np.zeros(5)\n",
    "for i, (train_index, test_index) in enumerate(cv.split(data_pca_y)):\n",
    "    X_train = data_pca_x.loc[train_index]\n",
    "    y_train = data_pca_y['Salary'][train_index]\n",
    "    X_test = data_pca_x.loc[test_index]\n",
    "    y_test = data_pca_y['Salary'][test_index]\n",
    "    model.fit(X_train, y_train)\n",
    "    y_pre = model.predict(X_test)\n",
    "    scores[i] = r2_score(y_test, y_pre)\n",
    "\n",
    "print(scores)\n",
    "print(np.mean(scores))"
   ]
  },
  {
   "cell_type": "markdown",
   "metadata": {},
   "source": [
    "- ### Analyzing each principal component"
   ]
  },
  {
   "cell_type": "code",
   "execution_count": 16,
   "metadata": {},
   "outputs": [
    {
     "data": {
      "text/html": [
       "<div>\n",
       "<style scoped>\n",
       "    .dataframe tbody tr th:only-of-type {\n",
       "        vertical-align: middle;\n",
       "    }\n",
       "\n",
       "    .dataframe tbody tr th {\n",
       "        vertical-align: top;\n",
       "    }\n",
       "\n",
       "    .dataframe thead th {\n",
       "        text-align: right;\n",
       "    }\n",
       "</style>\n",
       "<table border=\"1\" class=\"dataframe\">\n",
       "  <thead>\n",
       "    <tr style=\"text-align: right;\">\n",
       "      <th></th>\n",
       "      <th>Age</th>\n",
       "      <th>G</th>\n",
       "      <th>PA</th>\n",
       "      <th>AB</th>\n",
       "      <th>R</th>\n",
       "      <th>H</th>\n",
       "      <th>2B</th>\n",
       "      <th>3B</th>\n",
       "      <th>HR</th>\n",
       "      <th>RBI</th>\n",
       "      <th>...</th>\n",
       "      <th>GDP</th>\n",
       "      <th>HBP</th>\n",
       "      <th>SH</th>\n",
       "      <th>SF</th>\n",
       "      <th>IBB</th>\n",
       "      <th>Career</th>\n",
       "      <th>Weight</th>\n",
       "      <th>Height</th>\n",
       "      <th>AllStar</th>\n",
       "      <th>Awards</th>\n",
       "    </tr>\n",
       "  </thead>\n",
       "  <tbody>\n",
       "    <tr>\n",
       "      <td>0</td>\n",
       "      <td>-0.005925</td>\n",
       "      <td>-0.331917</td>\n",
       "      <td>-0.351452</td>\n",
       "      <td>-0.337117</td>\n",
       "      <td>-0.268342</td>\n",
       "      <td>-0.300877</td>\n",
       "      <td>-0.238197</td>\n",
       "      <td>-0.081001</td>\n",
       "      <td>-0.190402</td>\n",
       "      <td>-0.276343</td>\n",
       "      <td>...</td>\n",
       "      <td>-0.179478</td>\n",
       "      <td>-0.076228</td>\n",
       "      <td>0.021566</td>\n",
       "      <td>-0.139267</td>\n",
       "      <td>-0.090872</td>\n",
       "      <td>-0.044701</td>\n",
       "      <td>-0.037343</td>\n",
       "      <td>-0.035418</td>\n",
       "      <td>-0.104772</td>\n",
       "      <td>-0.062394</td>\n",
       "    </tr>\n",
       "    <tr>\n",
       "      <td>1</td>\n",
       "      <td>-0.313267</td>\n",
       "      <td>0.146913</td>\n",
       "      <td>0.101529</td>\n",
       "      <td>0.120100</td>\n",
       "      <td>0.078440</td>\n",
       "      <td>0.105470</td>\n",
       "      <td>0.051958</td>\n",
       "      <td>0.288136</td>\n",
       "      <td>-0.144464</td>\n",
       "      <td>-0.114220</td>\n",
       "      <td>...</td>\n",
       "      <td>-0.110655</td>\n",
       "      <td>0.012828</td>\n",
       "      <td>0.282658</td>\n",
       "      <td>-0.043208</td>\n",
       "      <td>-0.100744</td>\n",
       "      <td>-0.346280</td>\n",
       "      <td>-0.270783</td>\n",
       "      <td>-0.207699</td>\n",
       "      <td>-0.247414</td>\n",
       "      <td>-0.152587</td>\n",
       "    </tr>\n",
       "    <tr>\n",
       "      <td>2</td>\n",
       "      <td>0.351266</td>\n",
       "      <td>0.023862</td>\n",
       "      <td>0.035684</td>\n",
       "      <td>0.045179</td>\n",
       "      <td>0.011575</td>\n",
       "      <td>0.088081</td>\n",
       "      <td>0.011570</td>\n",
       "      <td>0.112485</td>\n",
       "      <td>-0.242644</td>\n",
       "      <td>-0.145559</td>\n",
       "      <td>...</td>\n",
       "      <td>0.065243</td>\n",
       "      <td>-0.036218</td>\n",
       "      <td>0.218905</td>\n",
       "      <td>0.040074</td>\n",
       "      <td>-0.024814</td>\n",
       "      <td>0.381251</td>\n",
       "      <td>-0.324590</td>\n",
       "      <td>-0.413959</td>\n",
       "      <td>0.176746</td>\n",
       "      <td>0.122627</td>\n",
       "    </tr>\n",
       "    <tr>\n",
       "      <td>3</td>\n",
       "      <td>-0.124895</td>\n",
       "      <td>-0.287788</td>\n",
       "      <td>-0.166242</td>\n",
       "      <td>-0.191633</td>\n",
       "      <td>0.119938</td>\n",
       "      <td>0.040039</td>\n",
       "      <td>0.074468</td>\n",
       "      <td>0.177941</td>\n",
       "      <td>0.082130</td>\n",
       "      <td>0.026710</td>\n",
       "      <td>...</td>\n",
       "      <td>-0.243936</td>\n",
       "      <td>0.033443</td>\n",
       "      <td>-0.171850</td>\n",
       "      <td>-0.104262</td>\n",
       "      <td>0.133097</td>\n",
       "      <td>-0.129076</td>\n",
       "      <td>-0.099695</td>\n",
       "      <td>-0.046550</td>\n",
       "      <td>0.123983</td>\n",
       "      <td>0.066578</td>\n",
       "    </tr>\n",
       "    <tr>\n",
       "      <td>4</td>\n",
       "      <td>0.068046</td>\n",
       "      <td>0.010332</td>\n",
       "      <td>0.006638</td>\n",
       "      <td>-0.030170</td>\n",
       "      <td>0.104362</td>\n",
       "      <td>-0.101745</td>\n",
       "      <td>-0.187499</td>\n",
       "      <td>0.274971</td>\n",
       "      <td>0.023287</td>\n",
       "      <td>-0.128165</td>\n",
       "      <td>...</td>\n",
       "      <td>-0.394367</td>\n",
       "      <td>0.031244</td>\n",
       "      <td>0.154340</td>\n",
       "      <td>-0.184586</td>\n",
       "      <td>-0.005428</td>\n",
       "      <td>0.084014</td>\n",
       "      <td>0.084045</td>\n",
       "      <td>0.412990</td>\n",
       "      <td>0.035859</td>\n",
       "      <td>0.019911</td>\n",
       "    </tr>\n",
       "  </tbody>\n",
       "</table>\n",
       "<p>5 rows × 28 columns</p>\n",
       "</div>"
      ],
      "text/plain": [
       "        Age         G        PA        AB         R         H        2B  \\\n",
       "0 -0.005925 -0.331917 -0.351452 -0.337117 -0.268342 -0.300877 -0.238197   \n",
       "1 -0.313267  0.146913  0.101529  0.120100  0.078440  0.105470  0.051958   \n",
       "2  0.351266  0.023862  0.035684  0.045179  0.011575  0.088081  0.011570   \n",
       "3 -0.124895 -0.287788 -0.166242 -0.191633  0.119938  0.040039  0.074468   \n",
       "4  0.068046  0.010332  0.006638 -0.030170  0.104362 -0.101745 -0.187499   \n",
       "\n",
       "         3B        HR       RBI  ...       GDP       HBP        SH        SF  \\\n",
       "0 -0.081001 -0.190402 -0.276343  ... -0.179478 -0.076228  0.021566 -0.139267   \n",
       "1  0.288136 -0.144464 -0.114220  ... -0.110655  0.012828  0.282658 -0.043208   \n",
       "2  0.112485 -0.242644 -0.145559  ...  0.065243 -0.036218  0.218905  0.040074   \n",
       "3  0.177941  0.082130  0.026710  ... -0.243936  0.033443 -0.171850 -0.104262   \n",
       "4  0.274971  0.023287 -0.128165  ... -0.394367  0.031244  0.154340 -0.184586   \n",
       "\n",
       "        IBB    Career    Weight    Height   AllStar    Awards  \n",
       "0 -0.090872 -0.044701 -0.037343 -0.035418 -0.104772 -0.062394  \n",
       "1 -0.100744 -0.346280 -0.270783 -0.207699 -0.247414 -0.152587  \n",
       "2 -0.024814  0.381251 -0.324590 -0.413959  0.176746  0.122627  \n",
       "3  0.133097 -0.129076 -0.099695 -0.046550  0.123983  0.066578  \n",
       "4 -0.005428  0.084014  0.084045  0.412990  0.035859  0.019911  \n",
       "\n",
       "[5 rows x 28 columns]"
      ]
     },
     "execution_count": 16,
     "metadata": {},
     "output_type": "execute_result"
    }
   ],
   "source": [
    "df_com = pd.DataFrame(pca.components_, columns = data.columns)\n",
    "df_com = df_com.drop(\"Salary\", axis='columns')\n",
    "df_com"
   ]
  },
  {
   "cell_type": "code",
   "execution_count": 187,
   "metadata": {
    "collapsed": true,
    "jupyter": {
     "outputs_hidden": true
    }
   },
   "outputs": [
    {
     "name": "stdout",
     "output_type": "stream",
     "text": [
      "            minus      plus\n",
      "Age     -0.005925  0.000000\n",
      "SH       0.000000  0.021566\n",
      "Height  -0.035418  0.000000\n",
      "Weight  -0.037343  0.000000\n",
      "Career  -0.044701  0.000000\n",
      "CS      -0.054739  0.000000\n",
      "SB      -0.060351  0.000000\n",
      "Awards  -0.062394  0.000000\n",
      "HBP     -0.076228  0.000000\n",
      "3B      -0.081001  0.000000\n",
      "IBB     -0.090872  0.000000\n",
      "AllStar -0.104772  0.000000\n",
      "OBP     -0.104890  0.000000\n",
      "BA      -0.107860  0.000000\n",
      "SLG     -0.131475  0.000000\n",
      "SF      -0.139267  0.000000\n",
      "BB      -0.172901  0.000000\n",
      "GDP     -0.179478  0.000000\n",
      "HR      -0.190402  0.000000\n",
      "SO      -0.193619  0.000000\n",
      "2B      -0.238197  0.000000\n",
      "R       -0.268342  0.000000\n",
      "RBI     -0.276343  0.000000\n",
      "H       -0.300877  0.000000\n",
      "TB      -0.303152  0.000000\n",
      "G       -0.331917  0.000000\n",
      "AB      -0.337117  0.000000\n",
      "PA      -0.351452  0.000000\n"
     ]
    }
   ],
   "source": [
    "compo = []\n",
    "for i in range(5):\n",
    "    com = pd.DataFrame(df_com.loc[i])\n",
    "    com.columns = ['minus']\n",
    "    com = com.reindex(com['minus'].abs().sort_values(ascending=True).index)\n",
    "    com['plus'] = 0\n",
    "    copy = com.copy()\n",
    "    k = 0\n",
    "    \n",
    "    for i in range(len(copy['minus'])):\n",
    "        if copy['minus'].iloc[i]>0:\n",
    "            k = copy['minus'].iloc[i]\n",
    "            com['plus'].iloc[i] = k\n",
    "            com['minus'].iloc[i] = 0\n",
    "        \n",
    "    compo.append(com)\n",
    "    \n",
    "print(compo[0])"
   ]
  },
  {
   "cell_type": "code",
   "execution_count": 199,
   "metadata": {},
   "outputs": [
    {
     "data": {
      "image/png": "[encoded data removed]",
      "text/plain": [
       "<Figure size 576x576 with 1 Axes>"
      ]
     },
     "metadata": {
      "needs_background": "light"
     },
     "output_type": "display_data"
    },
    {
     "data": {
      "image/png": "[encoded data removed]",
      "text/plain": [
       "<Figure size 576x576 with 1 Axes>"
      ]
     },
     "metadata": {
      "needs_background": "light"
     },
     "output_type": "display_data"
    },
    {
     "data": {
      "image/png": "[encoded data removed]",
      "text/plain": [
       "<Figure size 576x576 with 1 Axes>"
      ]
     },
     "metadata": {
      "needs_background": "light"
     },
     "output_type": "display_data"
    },
    {
     "data": {
      "image/png": "[encoded data removed]",
      "text/plain": [
       "<Figure size 576x576 with 1 Axes>"
      ]
     },
     "metadata": {
      "needs_background": "light"
     },
     "output_type": "display_data"
    },
    {
     "data": {
      "image/png": "[encoded data removed]",
      "text/plain": [
       "<Figure size 576x576 with 1 Axes>"
      ]
     },
     "metadata": {
      "needs_background": "light"
     },
     "output_type": "display_data"
    }
   ],
   "source": [
    "for i in range(5):\n",
    "    plt.rcParams[\"figure.figsize\"] = (8,8)\n",
    "    plt.title('Component'+str(i+1))\n",
    "    plt.barh(compo[i].index, compo[i]['minus'], color = 'tab:orange')\n",
    "    plt.barh(compo[i].index, compo[i]['plus'], color = 'tab:blue')\n",
    "    plt.xlabel('Weight')\n",
    "    plt.ylabel('Features')\n",
    "    plt.show()\n"
   ]
  },
  {
   "cell_type": "markdown",
   "metadata": {},
   "source": [
    "### Conclusion from the regression with PCA\n",
    "- Far better score: 0.75 R-squared\n",
    "- Simplify the variables -> Can be used to other ML or DL models\n",
    "- Effect of the components is complcaated, so it is hard to interpret clearly. However, it is still possible to interpret effects.\n",
    "---"
   ]
  },
  {
   "cell_type": "markdown",
   "metadata": {},
   "source": [
    "## 6. Conclusion"
   ]
  },
  {
   "cell_type": "markdown",
   "metadata": {},
   "source": [
    "- ### Choosed regression with the PCA as final model\n",
    "    - Showed best performance\n",
    "    - Can explain the effects of variables to the salary"
   ]
  },
  {
   "cell_type": "markdown",
   "metadata": {},
   "source": [
    "- ### HR insight of the project\n",
    "    - Total appearance, represented by plate appearance, at bat, and games, is most important indicator of salary (Component 1)\n",
    "    - Career and age have positive effect on the salary (Component 2, 3)\n",
    "    - Heavy sluggers, whose status is represented by weight, strikeouts, and homeruns, tend to have lower salary than speedy hitters, who have many 3B and stolen bases.\n",
    "    - External components like allstar-game appearance and awards also affect the salary bit.\n",
    "---"
   ]
  }
 ],
 "metadata": {
  "kernelspec": {
   "display_name": "Python 3",
   "language": "python",
   "name": "python3"
  },
  "language_info": {
   "codemirror_mode": {
    "name": "ipython",
    "version": 3
   },
   "file_extension": ".py",
   "mimetype": "text/x-python",
   "name": "python",
   "nbconvert_exporter": "python",
   "pygments_lexer": "ipython3",
   "version": "3.7.4"
  }
 },
 "nbformat": 4,
 "nbformat_minor": 4
}
