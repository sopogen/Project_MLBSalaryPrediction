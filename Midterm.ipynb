{
 "cells": [
  {
   "cell_type": "code",
   "execution_count": 3,
   "metadata": {},
   "outputs": [
    {
     "name": "stdin",
     "output_type": "stream",
     "text": [
      "시간을 입력하세요:  40\n"
     ]
    },
    {
     "name": "stdout",
     "output_type": "stream",
     "text": [
      "334000.0\n"
     ]
    }
   ],
   "source": [
    "#문제 1.\n",
    "\n",
    "def calculate() :\n",
    "    hours = float(input(\"시간을 입력하세요: \"))\n",
    "    rate = 8350\n",
    "    pay = rate * hours\n",
    "    return pay\n",
    "\n",
    "print(calculate())"
   ]
  },
  {
   "cell_type": "code",
   "execution_count": 1,
   "metadata": {},
   "outputs": [
    {
     "name": "stdin",
     "output_type": "stream",
     "text": [
      "시간을 입력하세요:  50\n"
     ]
    },
    {
     "name": "stdout",
     "output_type": "stream",
     "text": [
      "459250.0\n"
     ]
    }
   ],
   "source": [
    "#문제 2.\n",
    "\n",
    "def calculate() :\n",
    "    hours = float(input(\"시간을 입력하세요: \"))\n",
    "    rate = 8350\n",
    "    if hours <= 40 :\n",
    "        pay = hours * rate\n",
    "    elif hours > 40 :\n",
    "        pay = (hours-40)*rate*1.5 + 40*rate\n",
    "    return pay\n",
    "\n",
    "print(calculate())"
   ]
  },
  {
   "cell_type": "code",
   "execution_count": 6,
   "metadata": {},
   "outputs": [
    {
     "name": "stdin",
     "output_type": "stream",
     "text": [
      "시간을 입력하세요:  40\n",
      "최저시급을 입력하세요:  8350\n"
     ]
    },
    {
     "name": "stdout",
     "output_type": "stream",
     "text": [
      "334000.0\n"
     ]
    }
   ],
   "source": [
    "#문제 3.\n",
    "\n",
    "def calculate() :\n",
    "    hours = float(input(\"시간을 입력하세요: \"))\n",
    "    rate = float(input(\"최저시급을 입력하세요: \"))\n",
    "    if hours <= 40 :\n",
    "        pay = hours * rate\n",
    "    elif hours > 40 :\n",
    "        pay = (hours-40)*rate*1.5 + 40*rate\n",
    "    return pay\n",
    "\n",
    "print(calculate())"
   ]
  },
  {
   "cell_type": "code",
   "execution_count": 2,
   "metadata": {},
   "outputs": [
    {
     "name": "stdin",
     "output_type": "stream",
     "text": [
      "점수를 입력하세요:  50\n"
     ]
    },
    {
     "name": "stdout",
     "output_type": "stream",
     "text": [
      "F\n"
     ]
    }
   ],
   "source": [
    "#문제 4.\n",
    "\n",
    "score = int(input(\"점수를 입력하세요: \"))\n",
    "if score >= 90 : print(\"A\")\n",
    "elif score >= 80 : print(\"B\")\n",
    "elif score >= 70 : print(\"C\")\n",
    "elif score >= 60 : print(\"D\")\n",
    "elif score >= 0 and score < 60 : print(\"F\")\n",
    "else : print(\"Invalid input\")"
   ]
  },
  {
   "cell_type": "code",
   "execution_count": 3,
   "metadata": {},
   "outputs": [
    {
     "name": "stdin",
     "output_type": "stream",
     "text": [
      "Enter a number:  100\n",
      "Enter a number:  30\n",
      "Enter a number:  done\n"
     ]
    },
    {
     "name": "stdout",
     "output_type": "stream",
     "text": [
      "Maximum is 100\n",
      "Minimum is 30\n"
     ]
    }
   ],
   "source": [
    "#문제 5.\n",
    "arr = list()\n",
    "while True :\n",
    "    try :\n",
    "        inp = input(\"Enter a number: \")\n",
    "        if inp == \"done\" :\n",
    "            break\n",
    "        elif int(inp) > 100 or int(inp) < 0 :\n",
    "            raise Exception()\n",
    "        inp = int(inp)\n",
    "        arr.append(inp)\n",
    "    except :\n",
    "        print(\"Invalid input\")\n",
    "        continue\n",
    "print(\"Maximum is {0}\\nMinimum is {1}\".format(max(arr), min(arr)))"
   ]
  },
  {
   "cell_type": "code",
   "execution_count": 16,
   "metadata": {},
   "outputs": [
    {
     "name": "stdin",
     "output_type": "stream",
     "text": [
      "Enter a number:  80\n",
      "Enter a number:  70\n",
      "Enter a number:  bad data\n"
     ]
    },
    {
     "name": "stdout",
     "output_type": "stream",
     "text": [
      "Invalid input\n"
     ]
    },
    {
     "name": "stdin",
     "output_type": "stream",
     "text": [
      "Enter a number:  90\n",
      "Enter a number:  done\n"
     ]
    },
    {
     "name": "stdout",
     "output_type": "stream",
     "text": [
      "총합: 240 입력 점수 개수: 3 평균: 80.0\n"
     ]
    }
   ],
   "source": [
    "#문제 6.\n",
    "\n",
    "total = 0\n",
    "count = 0\n",
    "while True :\n",
    "    try :\n",
    "        inp = input(\"Enter a number: \")\n",
    "        if inp == \"done\" :\n",
    "            break\n",
    "        elif int(inp) > 100 or int(inp) < 0 :\n",
    "            raise Exception()\n",
    "        inp = int(inp)\n",
    "        count += 1\n",
    "        total += inp\n",
    "    except :\n",
    "        print(\"Invalid input\")\n",
    "        continue\n",
    "print(\"총합: {0}  입력 점수 개수: {1}  평균: {2}\".format(total, count, total/count))"
   ]
  },
  {
   "cell_type": "code",
   "execution_count": 22,
   "metadata": {
    "collapsed": true,
    "jupyter": {
     "outputs_hidden": true
    }
   },
   "outputs": [
    {
     "name": "stdout",
     "output_type": "stream",
     "text": [
      "WRITING PROGRAMS OR PROGRAMMING IS A VERY CREATIVE\n",
      "AND REWARDING ACTIVITY  YOU CAN WRITE PROGRAMS FOR\n",
      "MANY REASONS RANGING FROM MAKING YOUR LIVING TO SOLVING\n",
      "A DIFFICULT DATA ANALYSIS PROBLEM TO HAVING FUN TO HELPING\n",
      "SOMEONE ELSE SOLVE A PROBLEM  THIS BOOK ASSUMES THAT\n",
      "{\\EM EVERYONE} NEEDS TO KNOW HOW TO PROGRAM AND THAT ONCE\n",
      "YOU KNOW HOW TO PROGRAM, YOU WILL FIGURE OUT WHAT YOU WANT\n",
      "TO DO WITH YOUR NEWFOUND SKILLS\n",
      "\n",
      "WE ARE SURROUNDED IN OUR DAILY LIVES WITH COMPUTERS RANGING\n",
      "FROM LAPTOPS TO CELL PHONES  WE CAN THINK OF THESE COMPUTERS\n",
      "AS OUR PERSONAL ASSISTANTS WHO CAN TAKE CARE OF MANY THINGS\n",
      "ON OUR BEHALF  THE HARDWARE IN OUR CURRENT-DAY COMPUTERS\n",
      "IS ESSENTIALLY BUILT TO CONTINUOUSLY ASK US THE QUESTION\n",
      "WHAT WOULD YOU LIKE ME TO DO NEXT\n",
      "\n",
      "OUR COMPUTERS ARE FAST AND HAVE VASTS AMOUNTS OF MEMORY AND\n",
      "COULD BE VERY HELPFUL TO US IF WE ONLY KNEW THE LANGUAGE TO\n",
      "SPEAK TO EXPLAIN TO THE COMPUTER WHAT WE WOULD LIKE IT TO\n",
      "DO NEXT IF WE KNEW THIS LANGUAGE WE COULD TELL THE\n",
      "COMPUTER TO DO TASKS ON OUR BEHALF THAT WERE REPTITIVE\n",
      "INTERESTINGLY, THE KINDS OF THINGS COMPUTERS CAN DO BEST\n",
      "ARE OFTEN THE KINDS OF THINGS THAT WE HUMANS FIND BORING\n",
      "AND MIND-NUMBING\n"
     ]
    }
   ],
   "source": [
    "#문제 7.\n",
    "\n",
    "fhand = open(\"words.txt\")\n",
    "for line in fhand :\n",
    "    line = line.rstrip().upper()\n",
    "    print(line)"
   ]
  },
  {
   "cell_type": "code",
   "execution_count": 27,
   "metadata": {},
   "outputs": [
    {
     "name": "stdout",
     "output_type": "stream",
     "text": [
      "출력: 0.8475\n"
     ]
    }
   ],
   "source": [
    "#문제 8.\n",
    "\n",
    "import re\n",
    "\n",
    "Text = 'X-DSPAM-Confidence:0.8475'\n",
    "num = Text.find(\":\")\n",
    "print(\"출력: \" + Text[num+1 :])"
   ]
  },
  {
   "cell_type": "code",
   "execution_count": 40,
   "metadata": {},
   "outputs": [
    {
     "name": "stdout",
     "output_type": "stream",
     "text": [
      "Average spam confidence: 0.7507185185185187\n"
     ]
    }
   ],
   "source": [
    "#문제 9.\n",
    "\n",
    "fhand = open(\"mbox-short.txt\")\n",
    "\n",
    "total = 0\n",
    "count = 0\n",
    "arr = list()\n",
    "for line in fhand :\n",
    "    line = line.rstrip()\n",
    "    n = line.find(\"X-DSPAM-Confidence:\")\n",
    "    if n >= 0 :\n",
    "        total += float(line[n+20:])\n",
    "        count += 1\n",
    "\n",
    "average = total/count\n",
    "print(\"Average spam confidence: {0}\".format(average))"
   ]
  },
  {
   "cell_type": "code",
   "execution_count": 42,
   "metadata": {},
   "outputs": [
    {
     "name": "stdout",
     "output_type": "stream",
     "text": [
      "['Arise', 'But', 'It', 'Juliet', 'Who', 'already', 'and', 'breaks', 'east', 'envious', 'fair', 'grief', 'is', 'kill', 'light', 'moon', 'pale', 'sick', 'soft', 'sun', 'the', 'through', 'what', 'window', 'with', 'yonder']\n"
     ]
    }
   ],
   "source": [
    "#문제 10.\n",
    "\n",
    "fhand = open(\"romeo.txt\")\n",
    "\n",
    "arr = list()\n",
    "for line in fhand :\n",
    "    words = line.split()\n",
    "    for i in words :\n",
    "        if arr.count(i) == 0 :\n",
    "            arr.append(i)\n",
    "\n",
    "arr.sort()\n",
    "print(arr)"
   ]
  },
  {
   "cell_type": "code",
   "execution_count": 45,
   "metadata": {
    "collapsed": true,
    "jupyter": {
     "outputs_hidden": true
    }
   },
   "outputs": [
    {
     "name": "stdout",
     "output_type": "stream",
     "text": [
      "stephen.marquard@uct.ac.za\n",
      "louis@media.berkeley.edu\n",
      "zqian@umich.edu\n",
      "rjlowe@iupui.edu\n",
      "zqian@umich.edu\n",
      "rjlowe@iupui.edu\n",
      "cwen@iupui.edu\n",
      "cwen@iupui.edu\n",
      "gsilver@umich.edu\n",
      "gsilver@umich.edu\n",
      "zqian@umich.edu\n",
      "gsilver@umich.edu\n",
      "wagnermr@iupui.edu\n",
      "zqian@umich.edu\n",
      "antranig@caret.cam.ac.uk\n",
      "gopal.ramasammycook@gmail.com\n",
      "david.horwitz@uct.ac.za\n",
      "david.horwitz@uct.ac.za\n",
      "david.horwitz@uct.ac.za\n",
      "david.horwitz@uct.ac.za\n",
      "stephen.marquard@uct.ac.za\n",
      "louis@media.berkeley.edu\n",
      "louis@media.berkeley.edu\n",
      "ray@media.berkeley.edu\n",
      "cwen@iupui.edu\n",
      "cwen@iupui.edu\n",
      "cwen@iupui.edu\n",
      "Number of lines: 27\n"
     ]
    }
   ],
   "source": [
    "#문제 11.\n",
    "\n",
    "import re\n",
    "\n",
    "fhand = open(\"mbox-short.txt\")\n",
    "\n",
    "mails = list()\n",
    "count = 0\n",
    "for line in fhand :\n",
    "    line = line.rstrip()\n",
    "    if re.search('^From (\\S+@\\S+)', line) :\n",
    "        print(re.findall('^From (\\S+@\\S+)', line)[0])\n",
    "        count += 1\n",
    "\n",
    "print(\"Number of lines: %d\"%count)"
   ]
  },
  {
   "cell_type": "code",
   "execution_count": 60,
   "metadata": {},
   "outputs": [
    {
     "name": "stdout",
     "output_type": "stream",
     "text": [
      "cwen@iupui.edu 5\n"
     ]
    }
   ],
   "source": [
    "#문제 12.\n",
    "\n",
    "import re\n",
    "\n",
    "fhand = open(\"mbox-short.txt\")\n",
    "\n",
    "mails = list()\n",
    "count = dict()\n",
    "name = list()\n",
    "for line in fhand :\n",
    "    line = line.rstrip()\n",
    "    if re.search('^From (\\S+@\\S+)', line) :\n",
    "        mail = re.findall('^From (\\S+@\\S+)', line)[0]\n",
    "        count[mail] = count.get(mail, 0) + 1\n",
    "\n",
    "srt = sorted([ (v, k) for k, v in count.items() ], reverse=True)\n",
    "name = srt[0][1]\n",
    "maxvalue = srt[0][0]\n",
    "print(name, maxvalue)"
   ]
  },
  {
   "cell_type": "code",
   "execution_count": 61,
   "metadata": {},
   "outputs": [
    {
     "name": "stdout",
     "output_type": "stream",
     "text": [
      "04: 3\n",
      "06: 1\n",
      "07: 1\n",
      "09: 2\n",
      "10: 3\n",
      "11: 6\n",
      "14: 1\n",
      "15: 2\n",
      "16: 4\n",
      "17: 2\n",
      "18: 1\n",
      "19: 1\n"
     ]
    }
   ],
   "source": [
    "#문제 13.\n",
    "\n",
    "import re\n",
    "fhand = open(\"mbox-short.txt\")\n",
    "\n",
    "count = dict()\n",
    "for line in fhand :\n",
    "    temp = re.findall('^From.+ (\\S+?):', line)\n",
    "    for word in temp :\n",
    "        count[word] = count.get(word, 0) + 1\n",
    "\n",
    "lst = []\n",
    "lst = sorted(count.items())\n",
    "for i in lst :\n",
    "    print(\"{0}: {1}\".format(i[0], i[1]))"
   ]
  },
  {
   "cell_type": "code",
   "execution_count": null,
   "metadata": {},
   "outputs": [],
   "source": []
  }
 ],
 "metadata": {
  "kernelspec": {
   "display_name": "Python 3",
   "language": "python",
   "name": "python3"
  },
  "language_info": {
   "codemirror_mode": {
    "name": "ipython",
    "version": 3
   },
   "file_extension": ".py",
   "mimetype": "text/x-python",
   "name": "python",
   "nbconvert_exporter": "python",
   "pygments_lexer": "ipython3",
   "version": "3.7.3"
  }
 },
 "nbformat": 4,
 "nbformat_minor": 4
}
